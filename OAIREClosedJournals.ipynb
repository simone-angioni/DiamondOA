{
 "cells": [
  {
   "cell_type": "raw",
   "id": "8057f363-046b-47a0-9e46-266e8bd48efa",
   "metadata": {},
   "source": [
    "Il notebook di riferimento da cui ho estratto le info dei journal da oaire e oalex https://iis-cdh5-test-gw.ocean.icm.edu.pl/zeppelin/#/notebook/2K85QUTXF"
   ]
  },
  {
   "cell_type": "code",
   "execution_count": 1,
   "id": "c1f6f795-c357-4e85-88bc-89e22e5b67a3",
   "metadata": {},
   "outputs": [],
   "source": [
    "import json\n",
    "import pandas as pd\n",
    "\n",
    "foaire = open('./input/ItalianJournalInOpenAIRE.json')\n",
    "road = pd.read_csv('./input/roadExtracted.tsv', sep = '\\t')\n",
    "oairelines = foaire.read().split('\\n')"
   ]
  },
  {
   "cell_type": "code",
   "execution_count": 7,
   "id": "42f34add-a332-4213-b4e6-dc488c583af3",
   "metadata": {},
   "outputs": [],
   "source": [
    "#Remove from the set of journals from OAIRE those present in ROAD -> they should be open\n",
    "to_search = []\n",
    "for j in oairelines:\n",
    "    if j == \"\":\n",
    "        continue\n",
    "    dic = json.loads(j)\n",
    "    if 'issnPrinted' in dic and dic['issnPrinted'] != '':\n",
    "        if road[road[\"ISSN\"] == dic['issnPrinted']].shape[0] >= 1:\n",
    "            continue\n",
    "    if 'issnOnline' in dic and dic['issnOnline'] != '':\n",
    "        if road[road[\"ISSN\"] == dic['issnOnline']].shape[0] >= 1:\n",
    "            continue\n",
    "    to_search.append(dic)\n",
    "            "
   ]
  },
  {
   "cell_type": "code",
   "execution_count": 36,
   "id": "b5f28117-b824-410e-94f5-465356b0a403",
   "metadata": {},
   "outputs": [],
   "source": [
    "fout = open('./input/OpenAireClosed.json','w')\n",
    "fout.write(json.dumps(to_search))\n",
    "fout.close()"
   ]
  }
 ],
 "metadata": {
  "kernelspec": {
   "display_name": "Python 3",
   "language": "python",
   "name": "python3"
  },
  "language_info": {
   "codemirror_mode": {
    "name": "ipython",
    "version": 3
   },
   "file_extension": ".py",
   "mimetype": "text/x-python",
   "name": "python",
   "nbconvert_exporter": "python",
   "pygments_lexer": "ipython3",
   "version": "3.8.8"
  }
 },
 "nbformat": 4,
 "nbformat_minor": 5
}
