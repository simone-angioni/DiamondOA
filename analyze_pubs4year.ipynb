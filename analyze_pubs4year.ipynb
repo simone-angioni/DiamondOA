{
 "cells": [
  {
   "cell_type": "code",
   "execution_count": 1,
   "id": "7dd5db39-b559-4733-8dc7-ac1b72932a27",
   "metadata": {},
   "outputs": [],
   "source": [
    "import json, os\n",
    "from tqdm.notebook import tqdm\n",
    "from IPython.display import JSON as pretty_print"
   ]
  },
  {
   "cell_type": "code",
   "execution_count": 2,
   "id": "26a83847-95ee-43dd-8145-857f97765cbc",
   "metadata": {},
   "outputs": [],
   "source": [
    "with open(\"input/pubsPerYear.json\", \"r\") as f:\n",
    "    lines = f.read().split(\"\\n\")"
   ]
  },
  {
   "cell_type": "code",
   "execution_count": 173,
   "id": "1bc3423d",
   "metadata": {},
   "outputs": [
    {
     "data": {
      "application/vnd.jupyter.widget-view+json": {
       "model_id": "4cc01e7413814a3aa1dfb0f88f949a8d",
       "version_major": 2,
       "version_minor": 0
      },
      "text/plain": [
       "  0%|          | 0/1501965 [00:00<?, ?it/s]"
      ]
     },
     "metadata": {},
     "output_type": "display_data"
    }
   ],
   "source": [
    "pubs = 0\n",
    "for line in tqdm(lines):\n",
    "\tif line:\n",
    "\t\tentry = json.loads(line)\n",
    "\t\tn_pub = entry['numPub'] if 'numPub' in entry else 0\n",
    "\t\tpubs += n_pub"
   ]
  },
  {
   "cell_type": "code",
   "execution_count": 174,
   "id": "40569344",
   "metadata": {},
   "outputs": [
    {
     "data": {
      "text/plain": [
       "119644672"
      ]
     },
     "execution_count": 174,
     "metadata": {},
     "output_type": "execute_result"
    }
   ],
   "source": [
    "pubs"
   ]
  },
  {
   "cell_type": "code",
   "execution_count": 3,
   "id": "bb97b605",
   "metadata": {},
   "outputs": [
    {
     "data": {
      "text/plain": [
       "'{\"id\":\"issn__online::bbf0b25a901c6f30c546ee454e3f8bb6\",\"englishName\":\"Advanced Materials Research\",\"eissn\":\"1662-8985\",\"numPub\":30886,\"year\":2013}'"
      ]
     },
     "execution_count": 3,
     "metadata": {},
     "output_type": "execute_result"
    }
   ],
   "source": [
    "lines[10]"
   ]
  },
  {
   "cell_type": "code",
   "execution_count": 111,
   "id": "d6642fa7",
   "metadata": {},
   "outputs": [],
   "source": [
    "with open(\"input/oa-issns.json\", \"r\") as f: oa_issns = json.load(f)\n",
    "\n",
    "with open(\"input/closed-issns.json\", \"r\") as f: closed_issns = json.load(f)\n",
    "with open(\"input/closed-issnls.json\", \"r\") as f: closed_issnls = json.load(f)\n",
    "with open(\"input/closed-ids.json\", \"r\") as f: closed_ids = json.load(f)"
   ]
  },
  {
   "cell_type": "code",
   "execution_count": 106,
   "id": "efe074c6-ce78-4e24-acc7-3cdb09a915ef",
   "metadata": {
    "scrolled": true,
    "tags": []
   },
   "outputs": [
    {
     "data": {
      "application/vnd.jupyter.widget-view+json": {
       "model_id": "33561826d5b645658a7f9cf33a1b1e9d",
       "version_major": 2,
       "version_minor": 0
      },
      "text/plain": [
       "  0%|          | 0/1501965 [00:00<?, ?it/s]"
      ]
     },
     "metadata": {},
     "output_type": "display_data"
    }
   ],
   "source": [
    "journals = {}\n",
    "keys = set()\n",
    "inv_journals = {}\n",
    "for line in tqdm(lines):\n",
    "    if line:\n",
    "        entry = json.loads(line)\n",
    "        id_ = entry['id']\n",
    "        name = entry['englishName']\n",
    "        eissn = entry['eissn'] if 'eissn' in entry else \"\"\n",
    "        issn = entry['issn'] if 'issn' in entry else \"\"\n",
    "        n_pub = entry['numPub'] if 'numPub' in entry else 0\n",
    "        year = entry['year'] if 'year' in entry else \"\"\n",
    "        if not id_ in journals: journals[id_] = {'id':id_, 'name': {}, 'eissn':'', 'issn':'', 'years':{}}\n",
    "        journals[id_]['name'] = name if name else ''\n",
    "        journals[id_]['eissn'] = eissn if eissn else ''\n",
    "        journals[id_]['issn'] = issn if issn else ''\n",
    "        if year: journals[id_]['years'][year] = n_pub\n",
    "        if eissn: inv_journals[eissn] = id_\n",
    "        if issn: inv_journals[issn] = id_"
   ]
  },
  {
   "cell_type": "code",
   "execution_count": 162,
   "id": "3ca5de85",
   "metadata": {},
   "outputs": [],
   "source": [
    "closed_existent = {}\n",
    "for issn in closed_issns:\n",
    "\tif issn in inv_journals: closed_existent[issn] = journals[inv_journals[issn]]\n",
    "for issn in closed_issnls:\n",
    "\tif issn in inv_journals: closed_existent[issn] = journals[inv_journals[issn]]"
   ]
  },
  {
   "cell_type": "code",
   "execution_count": 169,
   "id": "bcad245d",
   "metadata": {},
   "outputs": [],
   "source": [
    "oa_existent = {}\n",
    "for issn in oa_issns:\n",
    "\tif issn in inv_journals: oa_existent[issn] = journals[inv_journals[issn]]"
   ]
  },
  {
   "cell_type": "code",
   "execution_count": 171,
   "id": "db853398",
   "metadata": {},
   "outputs": [
    {
     "data": {
      "text/plain": [
       "(728, 1812)"
      ]
     },
     "execution_count": 171,
     "metadata": {},
     "output_type": "execute_result"
    }
   ],
   "source": [
    "len(oa_existent), len(oa_issns)"
   ]
  },
  {
   "cell_type": "code",
   "execution_count": 154,
   "id": "431feb8c",
   "metadata": {},
   "outputs": [
    {
     "data": {
      "text/plain": [
       "(325, 1056)"
      ]
     },
     "execution_count": 154,
     "metadata": {},
     "output_type": "execute_result"
    }
   ],
   "source": [
    "len(closed_existent), len(closed_issns)"
   ]
  },
  {
   "cell_type": "code",
   "execution_count": 120,
   "id": "9e5e3dde",
   "metadata": {},
   "outputs": [],
   "source": [
    "for k,v in journals.items():\n",
    "\tif v['eissn'] == '0001-9747' or v['issn'] == '0001-9747': print(v)"
   ]
  },
  {
   "cell_type": "code",
   "execution_count": 163,
   "id": "43e94a77",
   "metadata": {},
   "outputs": [],
   "source": [
    "s_closed = set(closed_existent.keys())\n",
    "s_issn = set(closed_issns)"
   ]
  },
  {
   "cell_type": "code",
   "execution_count": 164,
   "id": "01a4b3dc",
   "metadata": {},
   "outputs": [],
   "source": [
    "not_in_oaire = s_closed.symmetric_difference(s_issn)"
   ]
  },
  {
   "cell_type": "code",
   "execution_count": 165,
   "id": "dd764fd0",
   "metadata": {},
   "outputs": [
    {
     "data": {
      "text/plain": [
       "503"
      ]
     },
     "execution_count": 165,
     "metadata": {},
     "output_type": "execute_result"
    }
   ],
   "source": [
    "len(not_in_oaire)"
   ]
  },
  {
   "cell_type": "code",
   "execution_count": 166,
   "id": "ca3136d4",
   "metadata": {},
   "outputs": [],
   "source": [
    "with open(\"./input/issn_not_in_openaire.json\", \"w\") as f:\n",
    "\tjson.dump(list(not_in_oaire), f)"
   ]
  },
  {
   "cell_type": "code",
   "execution_count": 168,
   "id": "eeb5deac",
   "metadata": {},
   "outputs": [
    {
     "data": {
      "text/plain": [
       "{'0001-6284',\n",
       " '0001-9747',\n",
       " '0002-0931',\n",
       " '0004-0150',\n",
       " '0004-0223',\n",
       " '0004-0312',\n",
       " '0004-0320',\n",
       " '0004-1173',\n",
       " '0004-5519',\n",
       " '0004-8585',\n",
       " '0005-8351',\n",
       " '0006-2995',\n",
       " '0006-6648',\n",
       " '0009-4773',\n",
       " '0009-7039',\n",
       " '0010-3462',\n",
       " '0014-2557',\n",
       " '0014-2573',\n",
       " '0015-1777',\n",
       " '0016-5670',\n",
       " '0016-6685',\n",
       " '0017-0097',\n",
       " '0017-3363',\n",
       " '0017-8594',\n",
       " '0019-901X',\n",
       " '0020-0735',\n",
       " '0020-725X',\n",
       " '0021-2938',\n",
       " '0021-8413',\n",
       " '0022-4782',\n",
       " '0023-8864',\n",
       " '0024-1318',\n",
       " '0024-1334',\n",
       " '0024-3868',\n",
       " '0024-9149',\n",
       " '0025-7818',\n",
       " '0026-4822',\n",
       " '0026-4873',\n",
       " '0026-4881',\n",
       " '0026-4938',\n",
       " '0026-4962',\n",
       " '0026-4989',\n",
       " '0026-6124',\n",
       " '0026-6841',\n",
       " '0027-2809',\n",
       " '0029-4349',\n",
       " '0029-6287',\n",
       " '0030-6630',\n",
       " '0031-4846',\n",
       " '0034-1193',\n",
       " '0035-6077',\n",
       " '0035-6336',\n",
       " '0035-6344',\n",
       " '0035-6441',\n",
       " '0035-6484',\n",
       " '0035-6573',\n",
       " '0035-6751',\n",
       " '0035-6867',\n",
       " '0036-9918',\n",
       " '0037-8836',\n",
       " '0039-3037',\n",
       " '0040-3776',\n",
       " '0041-1787',\n",
       " '0042-3343',\n",
       " '0042-8620',\n",
       " '0042-9317',\n",
       " '0043-8979',\n",
       " '0046-5968',\n",
       " '0047-0767',\n",
       " '0048-2951',\n",
       " '0049-2361',\n",
       " '0076-101X',\n",
       " '0081-6248',\n",
       " '0084-8948',\n",
       " '0085-5723',\n",
       " '0097-1030',\n",
       " '0097-3297',\n",
       " '0143-2281',\n",
       " '0150-5203',\n",
       " '0150-6846',\n",
       " '0150-6854',\n",
       " '0151-8879',\n",
       " '0223-5102',\n",
       " '0224-2281',\n",
       " '0240-9003',\n",
       " '0260-8642',\n",
       " '0300-0877',\n",
       " '0300-1318',\n",
       " '0300-340X',\n",
       " '0300-8894',\n",
       " '0301-3693',\n",
       " '0312-0430',\n",
       " '0312-2859',\n",
       " '0312-7923',\n",
       " '0312-7990',\n",
       " '0315-5587',\n",
       " '0320-7021',\n",
       " '0335-1793',\n",
       " '0335-7597',\n",
       " '0340-0638',\n",
       " '0341-7131',\n",
       " '0360-4888',\n",
       " '0363-6100',\n",
       " '0365-141X',\n",
       " '0365-7485',\n",
       " '0365-7833',\n",
       " '0366-0060',\n",
       " '0366-2241',\n",
       " '0366-6026',\n",
       " '0367-4541',\n",
       " '0369-0202',\n",
       " '0369-0415',\n",
       " '0369-2116',\n",
       " '0374-9320',\n",
       " '0376-0065',\n",
       " '0377-4953',\n",
       " '0384-3343',\n",
       " '0390-0142',\n",
       " '0390-279X',\n",
       " '0390-511X',\n",
       " '0390-5756',\n",
       " '0390-5802',\n",
       " '0390-6159',\n",
       " '0390-6264',\n",
       " '0390-8186',\n",
       " '0390-9417',\n",
       " '0391-0393',\n",
       " '0391-0474',\n",
       " '0391-1691',\n",
       " '0391-1993',\n",
       " '0391-2108',\n",
       " '0391-2612',\n",
       " '0391-4232',\n",
       " '0391-4674',\n",
       " '0391-5115',\n",
       " '0391-5352',\n",
       " '0391-5557',\n",
       " '0391-6162',\n",
       " '0391-7576',\n",
       " '0391-7770',\n",
       " '0391-7789',\n",
       " '0391-8009',\n",
       " '0391-8203',\n",
       " '0391-8289',\n",
       " '0391-8467',\n",
       " '0391-8505',\n",
       " '0391-9838',\n",
       " '0392-0615',\n",
       " '0392-0623',\n",
       " '0392-064X',\n",
       " '0392-3037',\n",
       " '0392-3584',\n",
       " '0392-4424',\n",
       " '0392-4610',\n",
       " '0392-7024',\n",
       " '0392-7032',\n",
       " '0392-7202',\n",
       " '0392-7881',\n",
       " '0392-839X',\n",
       " '0393-0092',\n",
       " '0393-1978',\n",
       " '0393-1994',\n",
       " '0393-456X',\n",
       " '0393-4691',\n",
       " '0393-6244',\n",
       " '0393-649X',\n",
       " '0393-8255',\n",
       " '0393-9316',\n",
       " '0393-9340',\n",
       " '0393-974X',\n",
       " '0394-106X',\n",
       " '0394-1094',\n",
       " '0394-4395',\n",
       " '0394-9257',\n",
       " '0394-9532',\n",
       " '0397-9148',\n",
       " '0399-3396',\n",
       " '0399-340X',\n",
       " '0399-3892',\n",
       " '0399-5895',\n",
       " '0417-9927',\n",
       " '0434-0272',\n",
       " '0444-8316',\n",
       " '0449-2102',\n",
       " '0455-2601',\n",
       " '0496-0017',\n",
       " '0515-2836',\n",
       " '0542-268X',\n",
       " '0544-2656',\n",
       " '0550-3868',\n",
       " '0580-2938',\n",
       " '0587-2421',\n",
       " '0667-1594',\n",
       " '0709-2210',\n",
       " '0710-8613',\n",
       " '0713-0430',\n",
       " '0720-1095',\n",
       " '0720-1117',\n",
       " '0720-230X',\n",
       " '0720-5635',\n",
       " '0720-5643',\n",
       " '0842-3202',\n",
       " '0952-3332',\n",
       " '0995-9726',\n",
       " '0997-7910',\n",
       " '1055-5218',\n",
       " '1056-8816',\n",
       " '1069-3130',\n",
       " '1088-7504',\n",
       " '1120-0979',\n",
       " '1120-1916',\n",
       " '1120-2505',\n",
       " '1120-2513',\n",
       " '1120-3137',\n",
       " '1120-3625',\n",
       " '1120-3803',\n",
       " '1120-4826',\n",
       " '1120-4834',\n",
       " '1120-6012',\n",
       " '1120-6365',\n",
       " '1120-6705',\n",
       " '1120-9135',\n",
       " '1120-9488',\n",
       " '1121-1229',\n",
       " '1121-1237',\n",
       " '1121-1369',\n",
       " '1121-3094',\n",
       " '1121-418X',\n",
       " '1121-4228',\n",
       " '1121-6085',\n",
       " '1121-7111',\n",
       " '1121-7138',\n",
       " '1121-7766',\n",
       " '1121-7812',\n",
       " '1121-8339',\n",
       " '1122-035X',\n",
       " '1122-0724',\n",
       " '1122-0910',\n",
       " '1122-6447',\n",
       " '1122-8679',\n",
       " '1122-8792',\n",
       " '1122-9411',\n",
       " '1122-9497',\n",
       " '1123-7198',\n",
       " '1123-9883',\n",
       " '1124-1020',\n",
       " '1124-1225',\n",
       " '1124-1845',\n",
       " '1124-1853',\n",
       " '1124-1861',\n",
       " '1124-187X',\n",
       " '1124-1896',\n",
       " '1124-1918',\n",
       " '1124-240X',\n",
       " '1124-3163',\n",
       " '1124-3171',\n",
       " '1124-3643',\n",
       " '1124-4593',\n",
       " '1124-9064',\n",
       " '1125-0135',\n",
       " '1125-0410',\n",
       " '1125-1077',\n",
       " '1125-1263',\n",
       " '1125-1778',\n",
       " '1125-2316',\n",
       " '1125-2324',\n",
       " '1125-2804',\n",
       " '1125-2820',\n",
       " '1125-2863',\n",
       " '1125-288X',\n",
       " '1125-2901',\n",
       " '1125-3460',\n",
       " '1125-8055',\n",
       " '1126-6937',\n",
       " '1126-7712',\n",
       " '1126-7720',\n",
       " '1126-8042',\n",
       " '1127-3070',\n",
       " '1128-174X',\n",
       " '1128-6598',\n",
       " '1128-7470',\n",
       " '1129-471X',\n",
       " '1129-5627',\n",
       " '1129-8723',\n",
       " '1129-8766',\n",
       " '1131-2173',\n",
       " '1169-2014',\n",
       " '1240-277X',\n",
       " '1420-9721',\n",
       " '1424-1307',\n",
       " '1590-0401',\n",
       " '1590-3729',\n",
       " '1590-6515',\n",
       " '1591-1586',\n",
       " '1591-2140',\n",
       " '1591-2221',\n",
       " '1591-4313',\n",
       " '1591-996X',\n",
       " '1592-1107',\n",
       " '1592-3894',\n",
       " '1592-5986',\n",
       " '1592-9531',\n",
       " '1593-2052',\n",
       " '1594-0667',\n",
       " '1594-6525',\n",
       " '1594-9982',\n",
       " '1613-981X',\n",
       " '1638-4725',\n",
       " '1650-4658',\n",
       " '1697-0683',\n",
       " '1720-0822',\n",
       " '1720-836X',\n",
       " '1721-6923',\n",
       " '1721-7547',\n",
       " '1721-8861',\n",
       " '1721-971X',\n",
       " '1722-6996',\n",
       " '1724-1693',\n",
       " '1724-1820',\n",
       " '1724-1901',\n",
       " '1724-191X',\n",
       " '1724-2169',\n",
       " '1724-4757',\n",
       " '1724-4781',\n",
       " '1724-6083',\n",
       " '1724-7322',\n",
       " '1770-1120',\n",
       " '1803-2095',\n",
       " '1824-2545',\n",
       " '1824-2669',\n",
       " '1824-5463',\n",
       " '1824-8705',\n",
       " '1825-0572',\n",
       " '1825-151X',\n",
       " '1825-8662',\n",
       " '1826-722X',\n",
       " '1827-4463',\n",
       " '1827-4765',\n",
       " '1827-6946',\n",
       " '1827-8671',\n",
       " '1828-1753',\n",
       " '1831-1083',\n",
       " '1831-9165',\n",
       " '1863-4613',\n",
       " '1873-4782',\n",
       " '1878-3562',\n",
       " '1878-6057',\n",
       " '1879-1662',\n",
       " '1940-0969',\n",
       " '1956-1105',\n",
       " '1970-5794',\n",
       " '1971-1425',\n",
       " '1971-4483',\n",
       " '1971-6796',\n",
       " '1973-6479',\n",
       " '1973-8102',\n",
       " '1973-8250',\n",
       " '1973-9133',\n",
       " '1974-8094',\n",
       " '1977-0375',\n",
       " '1977-0383',\n",
       " '1977-0391',\n",
       " '1977-0685',\n",
       " '2035-021X',\n",
       " '2035-2638',\n",
       " '2035-4606',\n",
       " '2035-4614',\n",
       " '2035-6315',\n",
       " '2035-648X',\n",
       " '2035-7559',\n",
       " '2035-7583',\n",
       " '2035-7958',\n",
       " '2035-7966',\n",
       " '2035-8016',\n",
       " '2035-8504',\n",
       " '2035-889X',\n",
       " '2036-0266',\n",
       " '2036-4563',\n",
       " '2036-458X',\n",
       " '2036-4660',\n",
       " '2036-5586',\n",
       " '2037-0644',\n",
       " '2037-3627',\n",
       " '2037-4631',\n",
       " '2037-4895',\n",
       " '2038-033X',\n",
       " '2038-1689',\n",
       " '2038-1700',\n",
       " '2038-1727',\n",
       " '2038-1778',\n",
       " '2038-1840',\n",
       " '2038-2502',\n",
       " '2038-5463',\n",
       " '2038-5471',\n",
       " '2038-727X',\n",
       " '2039-1293',\n",
       " '2039-4438',\n",
       " '2039-6155',\n",
       " '2039-7860',\n",
       " '2118-2248',\n",
       " '2154-1809',\n",
       " '2162-6499',\n",
       " '2239-0227',\n",
       " '2239-5687',\n",
       " '2279-8994',\n",
       " '2281-7875',\n",
       " '2281-8618',\n",
       " '2282-0248',\n",
       " '2282-0930',\n",
       " '2282-2011',\n",
       " '2282-2305',\n",
       " '2282-2674',\n",
       " '2283-0332',\n",
       " '2283-4281',\n",
       " '2283-5431',\n",
       " '2283-5520',\n",
       " '2283-6160',\n",
       " '2283-6179',\n",
       " '2283-6195',\n",
       " '2283-7140',\n",
       " '2283-9917',\n",
       " '2284-0249',\n",
       " '2284-1504',\n",
       " '2284-3310',\n",
       " '2284-3663',\n",
       " '2284-4864',\n",
       " '2327-9656',\n",
       " '2330-1252',\n",
       " '2384-8537',\n",
       " '2385-0698',\n",
       " '2385-0787',\n",
       " '2385-0922',\n",
       " '2385-1929',\n",
       " '2385-1953',\n",
       " '2385-2003',\n",
       " '2385-202X',\n",
       " '2385-2100',\n",
       " '2385-2623',\n",
       " '2385-2631',\n",
       " '2385-264X',\n",
       " '2385-2658',\n",
       " '2385-2674',\n",
       " '2385-2682',\n",
       " '2385-2852',\n",
       " '2385-2909',\n",
       " '2389-394X',\n",
       " '2421-0587',\n",
       " '2426-3184',\n",
       " '2499-6475',\n",
       " '2499-6904',\n",
       " '2499-8281',\n",
       " '2531-7121',\n",
       " '2532-1080',\n",
       " '2532-4780',\n",
       " '2532-5655',\n",
       " '2532-6872',\n",
       " '2532-7364',\n",
       " '2532-7623',\n",
       " '2533-168X',\n",
       " '2533-1701',\n",
       " '2533-1728',\n",
       " '2533-1760',\n",
       " '2533-2244',\n",
       " '2533-2260',\n",
       " '2533-2279',\n",
       " '2533-2295',\n",
       " '2533-2910',\n",
       " '2533-2929',\n",
       " '2555-0373',\n",
       " '2555-9648',\n",
       " '2576-4888',\n",
       " '2577-9192',\n",
       " '2592-0391',\n",
       " '2604-0042',\n",
       " '2611-4593',\n",
       " '2611-7487',\n",
       " '2612-0372',\n",
       " '2612-050X',\n",
       " '2612-0909',\n",
       " '2612-2030',\n",
       " '2612-2073',\n",
       " '2612-2235',\n",
       " '2612-2316',\n",
       " '2612-2324',\n",
       " '2612-2774',\n",
       " '2612-4882',\n",
       " '2671-8537',\n",
       " '2704-6230',\n",
       " '2724-6108',\n",
       " '2724-6493',\n",
       " '2724-6760',\n",
       " '2784-8329',\n",
       " '2784-9473',\n",
       " '2785-0773',\n",
       " '2785-3039',\n",
       " '2785-728X',\n",
       " '2813-4710',\n",
       " '2837-2220',\n",
       " '2837-2239',\n",
       " '2974-5780',\n",
       " '2974-6949',\n",
       " '2975-1411',\n",
       " '3035-1030'}"
      ]
     },
     "execution_count": 168,
     "metadata": {},
     "output_type": "execute_result"
    }
   ],
   "source": [
    "not_in_oaire"
   ]
  },
  {
   "cell_type": "code",
   "execution_count": 167,
   "id": "65d04711",
   "metadata": {},
   "outputs": [
    {
     "name": "stdout",
     "output_type": "stream",
     "text": [
      "2724-6760 issn___print::bd6ff2a3c5199efd6f2ea769d95b32ed {'id': 'issn___print::bd6ff2a3c5199efd6f2ea769d95b32ed', 'name': 'Otorhinolaryngology', 'eissn': '2724-6760', 'issn': '2724-6302', 'years': {2021: 51, 2022: 38, 2023: 29, 2018: 28, 2017: 19, 2024: 17}}\n",
      "2282-0930 doajarticles::56a401317e0458b653244ff28981298f {'id': 'doajarticles::56a401317e0458b653244ff28981298f', 'name': 'Epidemiology Biostatistics and Public Health', 'eissn': '2282-0930', 'issn': '', 'years': {2022: 403, 2024: 26, 2023: 23, 2006: 2, 2019: 2, 2015: 1, 2007: 1, 2009: 1, 2020: 1, 2012: 1, 2014: 1}}\n",
      "2724-6493 issn___print::08b61ee4eab638adc8861db81c3ecaac {'id': 'issn___print::08b61ee4eab638adc8861db81c3ecaac', 'name': 'Minerva Respiratory Medicine', 'eissn': '2724-6493', 'issn': '2784-8477', 'years': {2022: 44, 2017: 31, 2023: 28, 2024: 22, 2021: 18, 2018: 7, 2020: 3}}\n",
      "2724-6108 issn___print::d9ef0c4d2b500427404e31de424bff80 {'id': 'issn___print::d9ef0c4d2b500427404e31de424bff80', 'name': 'Minerva Psychiatry', 'eissn': '2724-6108', 'issn': '2724-6612', 'years': {2023: 64, 2022: 63, 2024: 44, 2021: 34, 2017: 27, 2018: 23, 2020: 1}}\n",
      "1613-981X issn___print::06f4a312ad21f0863f9622afa723398b {'id': 'issn___print::06f4a312ad21f0863f9622afa723398b', 'name': 'Statistical Methods & Applications', 'eissn': '1613-981X', 'issn': '1618-2510', 'years': {2020: 156, 2017: 82, 2022: 66, 2021: 60, 2023: 59, 2019: 57, 2015: 54, 2007: 49, 2012: 43, 2014: 43, 2006: 37, 2004: 35, 2011: 31, 2018: 30, 2024: 29, 2016: 29, 2008: 27, 2010: 25, 2002: 25, 2005: 24, 2013: 23, 1998: 20, 1997: 19, 2001: 19, 2003: 19, 2009: 17, 1992: 14, 2000: 14, 1994: 10, 1993: 10, 1996: 9, 1995: 8, 1999: 6, 1979: 3}}\n",
      "1863-4613 issn___print::ec5c27a09d3a7456bd83acffe82c2fe3 {'id': 'issn___print::ec5c27a09d3a7456bd83acffe82c2fe3', 'name': 'International Review of Economics', 'eissn': '1863-4613', 'issn': '1865-1704', 'years': {2006: 35, 2007: 35, 2023: 34, 2011: 34, 2022: 29, 2018: 28, 2008: 28, 2014: 28, 2024: 28, 2012: 27, 2009: 27, 2019: 25, 2010: 25, 2015: 22, 2013: 21, 2021: 21, 2017: 21, 2020: 20, 2016: 17, 2005: 1}}\n",
      "2385-0922 doajarticles::0602639cea80afdba6ba2a88e67e7eb8 {'id': 'doajarticles::0602639cea80afdba6ba2a88e67e7eb8', 'name': 'Natural History Sciences', 'eissn': '2385-0922', 'issn': '2385-0442', 'years': {2023: 53, 2024: 35, 2021: 24, 2014: 19, 2012: 18, 2016: 17, 2011: 17, 2018: 16, 2022: 16, 2017: 16, 2015: 15, 2013: 11, 2020: 10, 2019: 10}}\n",
      "1120-4826 issn___print::71a0e796ee772d03f51a96849100f196 {'id': 'issn___print::71a0e796ee772d03f51a96849100f196', 'name': 'Minerva Biotecnologica', 'eissn': '1827-160X', 'issn': '1120-4826', 'years': {2019: 20, 2020: 18, 2018: 10, 2021: 10, 2017: 2, 2000: 1, 2001: 1, 2011: 1, 1998: 1}}\n"
     ]
    }
   ],
   "source": [
    "for key in not_in_oaire:\n",
    "\tif key in inv_journals: print(key, inv_journals[key], closed_existent[key])"
   ]
  },
  {
   "cell_type": "code",
   "execution_count": 56,
   "id": "2d461e10",
   "metadata": {},
   "outputs": [
    {
     "data": {
      "text/plain": [
       "{'id': 'doajarticles::2cab40d60fa6fad2b421460c039d8de8',\n",
       " 'name': 'Basic and Applied Myology',\n",
       " 'eissn': '',\n",
       " 'issn': '1120-9992',\n",
       " 'years': {2015: 2, 1995: 2, 2011: 1, 1997: 1, 1994: 1}}"
      ]
     },
     "execution_count": 56,
     "metadata": {},
     "output_type": "execute_result"
    }
   ],
   "source": [
    "journals['doajarticles::2cab40d60fa6fad2b421460c039d8de8']"
   ]
  },
  {
   "cell_type": "code",
   "execution_count": 10,
   "id": "779bfa68-8bef-4472-a26d-cbf424813e9a",
   "metadata": {},
   "outputs": [
    {
     "data": {
      "text/plain": [
       "117875"
      ]
     },
     "execution_count": 10,
     "metadata": {},
     "output_type": "execute_result"
    }
   ],
   "source": [
    "len(journals)"
   ]
  },
  {
   "cell_type": "code",
   "execution_count": 6,
   "id": "5c708a48-fae7-4474-b7f9-7160bf2e9746",
   "metadata": {},
   "outputs": [],
   "source": [
    "l_journals = list(journals.values())"
   ]
  },
  {
   "cell_type": "code",
   "execution_count": 7,
   "id": "4263e699",
   "metadata": {},
   "outputs": [],
   "source": [
    "diamond = json.loads(open('./input/diamond-issns.json').read())"
   ]
  },
  {
   "cell_type": "code",
   "execution_count": 12,
   "id": "1f881e8c",
   "metadata": {},
   "outputs": [],
   "source": [
    "djournals = {}\n",
    "oajournals = {}\n",
    "closedjournals = {}\n",
    "for key in journals:\n",
    "    if journals[key]['eissn'] in diamond or journals[key]['issn'] in diamond:\n",
    "        djournals[key] = journals[key]\n",
    "    elif journals[key]['eissn'] in oa_issns or journals[key]['issn'] in oa_issns:\n",
    "        oajournals[key] = journals[key]\n",
    "    elif journals[key]['eissn'] in closed_issns or journals[key]['issn'] in closed_issns:\n",
    "        closedjournals[key] = journals[key]\n",
    "    elif journals[key]['eissn'] in closed_issnls or journals[key]['issn'] in closed_issnls:\n",
    "        closedjournals[key] = journals[key]\n",
    "    elif journals[key]['eissn'] in closed_ids or journals[key]['issn'] in closed_ids:\n",
    "        closedjournals[key] = journals[key]"
   ]
  },
  {
   "cell_type": "code",
   "execution_count": 99,
   "id": "2dcc08e4",
   "metadata": {},
   "outputs": [
    {
     "data": {
      "text/plain": [
       "True"
      ]
     },
     "execution_count": 99,
     "metadata": {},
     "output_type": "execute_result"
    }
   ],
   "source": [
    "'2281-9584' in closed_issns"
   ]
  },
  {
   "cell_type": "code",
   "execution_count": 100,
   "id": "ea22f1d6",
   "metadata": {},
   "outputs": [
    {
     "data": {
      "text/plain": [
       "{'id': 'doajarticles::9228b281e7edf6bf639df4b6fa418738',\n",
       " 'name': 'Entomologia',\n",
       " 'eissn': '2281-9584',\n",
       " 'issn': '',\n",
       " 'years': {2014: 12, 2013: 8, 2015: 3, 2016: 1}}"
      ]
     },
     "execution_count": 100,
     "metadata": {},
     "output_type": "execute_result"
    }
   ],
   "source": [
    "closedjournals['doajarticles::9228b281e7edf6bf639df4b6fa418738']"
   ]
  },
  {
   "cell_type": "code",
   "execution_count": 101,
   "id": "4d74aaf1",
   "metadata": {},
   "outputs": [],
   "source": [
    "def existsIn(issn, journals):\n",
    "\texists = False\n",
    "\tfor k,v in journals.items():\n",
    "\t\tif v['eissn'] != issn or v['issn'] != issn:\n",
    "\t\t\texists = False\n",
    "\t\telse: exists = True\n",
    "\treturn exists"
   ]
  },
  {
   "cell_type": "code",
   "execution_count": 88,
   "id": "c49da72c",
   "metadata": {},
   "outputs": [],
   "source": [
    "closed = [issn for issn in closed_issns if not issn in oa_issns]"
   ]
  },
  {
   "cell_type": "code",
   "execution_count": 102,
   "id": "84fc84ce",
   "metadata": {},
   "outputs": [
    {
     "data": {
      "application/vnd.jupyter.widget-view+json": {
       "model_id": "15a3f6788c5944cfbe02b18f9c52b9d6",
       "version_major": 2,
       "version_minor": 0
      },
      "text/plain": [
       "  0%|          | 0/997 [00:00<?, ?it/s]"
      ]
     },
     "metadata": {},
     "output_type": "display_data"
    }
   ],
   "source": [
    "issns = {}\n",
    "for issn in tqdm(closed):\n",
    "\tclose = existsIn(issn, closedjournals)\n",
    "\toa = existsIn(issn, oajournals)\n",
    "\td = existsIn(issn, djournals)\n",
    "\t\n",
    "\tissns[issn] = True if close or oa or d else False"
   ]
  },
  {
   "cell_type": "code",
   "execution_count": 98,
   "id": "a3ae3131",
   "metadata": {},
   "outputs": [
    {
     "data": {
      "text/plain": [
       "{'id': 'doajarticles::9228b281e7edf6bf639df4b6fa418738',\n",
       " 'name': 'Entomologia',\n",
       " 'eissn': '2281-9584',\n",
       " 'issn': '',\n",
       " 'years': {2014: 12, 2013: 8, 2015: 3, 2016: 1}}"
      ]
     },
     "execution_count": 98,
     "metadata": {},
     "output_type": "execute_result"
    }
   ],
   "source": [
    "journals['doajarticles::9228b281e7edf6bf639df4b6fa418738']"
   ]
  },
  {
   "cell_type": "code",
   "execution_count": 97,
   "id": "07138fae",
   "metadata": {},
   "outputs": [
    {
     "ename": "TypeError",
     "evalue": "list indices must be integers or slices, not str",
     "output_type": "error",
     "traceback": [
      "\u001b[0;31m---------------------------------------------------------------------------\u001b[0m",
      "\u001b[0;31mTypeError\u001b[0m                                 Traceback (most recent call last)",
      "Cell \u001b[0;32mIn[97], line 1\u001b[0m\n\u001b[0;32m----> 1\u001b[0m \u001b[43mclosed\u001b[49m\u001b[43m[\u001b[49m\u001b[38;5;124;43m'\u001b[39;49m\u001b[38;5;124;43mdoajarticles::9228b281e7edf6bf639df4b6fa418738\u001b[39;49m\u001b[38;5;124;43m'\u001b[39;49m\u001b[43m]\u001b[49m\n",
      "\u001b[0;31mTypeError\u001b[0m: list indices must be integers or slices, not str"
     ]
    }
   ],
   "source": [
    "closed['doajarticles::9228b281e7edf6bf639df4b6fa418738']"
   ]
  },
  {
   "cell_type": "code",
   "execution_count": 103,
   "id": "743a7dbb",
   "metadata": {},
   "outputs": [
    {
     "data": {
      "text/plain": [
       "932"
      ]
     },
     "execution_count": 103,
     "metadata": {},
     "output_type": "execute_result"
    }
   ],
   "source": [
    "\"[(issn, exist) for issn, exist in issns.items() if not exist]"
   ]
  },
  {
   "cell_type": "code",
   "execution_count": 105,
   "id": "f68878db",
   "metadata": {},
   "outputs": [
    {
     "data": {
      "text/plain": [
       "True"
      ]
     },
     "execution_count": 105,
     "metadata": {},
     "output_type": "execute_result"
    }
   ],
   "source": [
    "'2281-9584' in [issn for issn,exists in issns.items() if not exists ]"
   ]
  },
  {
   "cell_type": "code",
   "execution_count": null,
   "id": "b264b012",
   "metadata": {},
   "outputs": [
    {
     "ename": "KeyError",
     "evalue": "'doajarticles::4f94b9e0b823b6b0f9047051ae270835'",
     "output_type": "error",
     "traceback": [
      "\u001b[0;31m---------------------------------------------------------------------------\u001b[0m",
      "\u001b[0;31mKeyError\u001b[0m                                  Traceback (most recent call last)",
      "Cell \u001b[0;32mIn[70], line 1\u001b[0m\n\u001b[0;32m----> 1\u001b[0m \u001b[43moajournals\u001b[49m\u001b[43m[\u001b[49m\u001b[38;5;124;43m'\u001b[39;49m\u001b[38;5;124;43mdoajarticles::4f94b9e0b823b6b0f9047051ae270835\u001b[39;49m\u001b[38;5;124;43m'\u001b[39;49m\u001b[43m]\u001b[49m\n",
      "\u001b[0;31mKeyError\u001b[0m: 'doajarticles::4f94b9e0b823b6b0f9047051ae270835'"
     ]
    }
   ],
   "source": [
    "oajournals['doajarticles::4f94b9e0b823b6b0f9047051ae270835']"
   ]
  },
  {
   "cell_type": "code",
   "execution_count": 77,
   "id": "8bf32a5d",
   "metadata": {},
   "outputs": [
    {
     "data": {
      "text/plain": [
       "True"
      ]
     },
     "execution_count": 77,
     "metadata": {},
     "output_type": "execute_result"
    }
   ],
   "source": [
    "'2036-7511' in closed"
   ]
  },
  {
   "cell_type": "code",
   "execution_count": null,
   "id": "d4bc002d",
   "metadata": {},
   "outputs": [
    {
     "data": {
      "text/plain": [
       "[('1121-418X', False),\n",
       " ('2384-8537', False),\n",
       " ('2671-8537', False),\n",
       " ('2384-3772', False),\n",
       " ('0952-3332', False),\n",
       " ('2385-202X', False),\n",
       " ('1594-6525', False),\n",
       " ('0392-4424', False),\n",
       " ('2281-9584', False),\n",
       " ('2284-3310', False),\n",
       " ('2038-9701', False),\n",
       " ('2038-9698', False),\n",
       " ('1721-6915', False),\n",
       " ('2532-7623', False),\n",
       " ('2532-7364', False),\n",
       " ('2038-9663', False),\n",
       " ('2038-9655', False),\n",
       " ('2240-0192', False),\n",
       " ('2039-4438', False),\n",
       " ('2039-4446', False),\n",
       " ('1724-7322', False),\n",
       " ('2036-752X', False),\n",
       " ('2036-7511', False),\n",
       " ('1121-7812', False),\n",
       " ('0390-511X', False),\n",
       " ('3035-1030', False),\n",
       " ('1956-1105', False),\n",
       " ('1770-1120', False),\n",
       " ('2235-4956', False),\n",
       " ('2532-4780', False),\n",
       " ('1720-7525', False),\n",
       " ('2283-9917', False),\n",
       " ('1974-0050', False),\n",
       " ('1974-0042', False),\n",
       " ('2330-1252', False),\n",
       " ('0042-8620', False),\n",
       " ('0042-9317', False),\n",
       " ('2604-0042', False),\n",
       " ('0042-3343', False),\n",
       " ('0341-7131', False),\n",
       " ('1824-2545', False),\n",
       " ('1827-6946', False),\n",
       " ('2039-1293', False),\n",
       " ('2035-8504', False),\n",
       " ('1125-1077', False),\n",
       " ('2281-2075', False),\n",
       " ('2039-7860', False),\n",
       " ('1129-8766', False),\n",
       " ('2039-7879', False),\n",
       " ('1129-8596', False),\n",
       " ('1724-4935', False),\n",
       " ('2974-6949', False),\n",
       " ('1824-2669', False),\n",
       " ('0369-3546', False),\n",
       " ('0550-3868', False),\n",
       " ('0029-6341', False),\n",
       " ('1434-6001', False),\n",
       " ('1124-1853', False),\n",
       " ('0375-930X', False),\n",
       " ('1827-613X', False),\n",
       " ('0024-1318', False),\n",
       " ('1826-6983', False),\n",
       " ('0033-8362', False),\n",
       " ('0026-4962', False),\n",
       " ('1591-4313', False),\n",
       " ('1970-9366', False),\n",
       " ('1828-0447', False),\n",
       " ('1828-1753', False),\n",
       " ('0393-9340', False),\n",
       " ('1826-9877', False),\n",
       " ('2037-4895', False),\n",
       " ('1594-9982', False),\n",
       " ('1720-0822', False),\n",
       " ('1591-9528', False),\n",
       " ('1591-8890', False),\n",
       " ('0940-5437', False),\n",
       " ('0300-9130', False),\n",
       " ('1724-5575', False),\n",
       " ('1126-3504', False),\n",
       " ('0017-0070', False),\n",
       " ('1973-4409', False),\n",
       " ('0009-725X', False),\n",
       " ('1592-9531', False),\n",
       " ('1055-5218', False),\n",
       " ('1069-3130', False),\n",
       " ('0020-725X', False),\n",
       " ('0730-725X', False),\n",
       " ('1056-8816', False),\n",
       " ('1542-1406', False),\n",
       " ('1058-7268', False),\n",
       " ('1828-7131', False),\n",
       " ('0394-9370', False),\n",
       " ('0026-9786', False),\n",
       " ('1120-6705', False),\n",
       " ('2239-7264', False),\n",
       " ('1125-4653', False),\n",
       " ('0035-6441', False),\n",
       " ('2038-3312', False),\n",
       " ('2038-131X', False),\n",
       " ('0009-4773', False),\n",
       " ('1467-999X', False),\n",
       " ('0026-1386', False),\n",
       " ('0047-0767', False),\n",
       " ('0369-3554', False),\n",
       " ('1124-187X', False),\n",
       " ('1126-5434', False),\n",
       " ('0008-0624', False),\n",
       " ('2240-2993', False),\n",
       " ('0300-9009', False),\n",
       " ('0001-6284', False),\n",
       " ('0373-4137', False),\n",
       " ('1125-0003', False),\n",
       " ('2555-0373', False),\n",
       " ('1827-1928', False),\n",
       " ('0022-4707', False),\n",
       " ('0014-2573', False),\n",
       " ('2035-5114', False),\n",
       " ('2035-5106', False),\n",
       " ('0009-4749', False),\n",
       " ('1972-4969', False),\n",
       " ('0391-8769', False),\n",
       " ('1827-1596', False),\n",
       " ('0375-9393', False),\n",
       " ('0367-4541', False),\n",
       " ('1121-7766', False),\n",
       " ('0995-9726', False),\n",
       " ('1824-310X', False),\n",
       " ('0393-9375', False),\n",
       " ('1128-7470', False),\n",
       " ('1751-9721', False),\n",
       " ('0393-2729', False),\n",
       " ('0584-8776', False),\n",
       " ('2385-2100', False),\n",
       " ('0390-5551', False),\n",
       " ('1124-1896', False),\n",
       " ('2283-6195', False),\n",
       " ('1125-2820', False),\n",
       " ('1125-2804', False),\n",
       " ('0394-1094', False),\n",
       " ('1593-098X', False),\n",
       " ('0392-856X', False),\n",
       " ('2532-6872', False),\n",
       " ('1468-0300', False),\n",
       " ('0391-5026', False),\n",
       " ('0391-8289', False),\n",
       " ('2038-4815', False),\n",
       " ('0010-0757', False),\n",
       " ('2036-2145', False),\n",
       " ('0391-173X', False),\n",
       " ('0036-9918', False),\n",
       " ('0025-6153', False),\n",
       " ('2162-6499', False),\n",
       " ('0004-8011', False),\n",
       " ('2059-6316', False),\n",
       " ('1120-9623', False),\n",
       " ('0515-2836', False),\n",
       " ('0001-5660', False),\n",
       " ('2281-7565', False),\n",
       " ('2281-5872', False),\n",
       " ('1827-1669', False),\n",
       " ('0026-4806', False),\n",
       " ('0026-4822', False),\n",
       " ('0544-2656', False),\n",
       " ('0393-1994', False),\n",
       " ('0014-2557', False),\n",
       " ('0029-4349', False),\n",
       " ('0369-0202', False),\n",
       " ('0393-649X', False),\n",
       " ('1125-1778', False),\n",
       " ('2385-2631', False),\n",
       " ('0001-5563', False),\n",
       " ('0940-5429', False),\n",
       " ('0365-5555', False),\n",
       " ('2038-1727', False),\n",
       " ('2038-1719', False),\n",
       " ('0037-8763', False),\n",
       " ('2283-6179', False),\n",
       " ('0065-6801', False),\n",
       " ('1940-0977', False),\n",
       " ('1940-0969', False),\n",
       " ('1827-3491', False),\n",
       " ('0035-5038', False),\n",
       " ('0377-4953', False),\n",
       " ('1721-8861', False),\n",
       " ('1120-0979', False),\n",
       " ('2281-695X', False),\n",
       " ('0026-1424', False),\n",
       " ('0026-6841', False),\n",
       " ('2813-4710', False),\n",
       " ('1424-1307', False),\n",
       " ('1420-9721', False),\n",
       " ('1827-1898', False),\n",
       " ('0031-0808', False),\n",
       " ('1131-2173', False),\n",
       " ('1593-8883', False),\n",
       " ('1129-6569', False),\n",
       " ('2385-2658', False),\n",
       " ('1127-1035', False),\n",
       " ('1827-1839', False),\n",
       " ('0392-9590', False),\n",
       " ('2724-6442', False),\n",
       " ('2724-6051', False),\n",
       " ('0393-2249', False),\n",
       " ('1724-1901', False),\n",
       " ('0033-4987', False),\n",
       " ('0272-4987', False),\n",
       " ('0033-555X', False),\n",
       " ('1973-7998', False),\n",
       " ('1973-798X', False),\n",
       " ('2499-8281', False),\n",
       " ('0391-5115', False),\n",
       " ('2385-2682', False),\n",
       " ('0390-5748', False),\n",
       " ('1125-0410', False),\n",
       " ('1973-820X', False),\n",
       " ('1120-2890', False),\n",
       " ('0003-9136', False),\n",
       " ('1825-3911', False),\n",
       " ('0394-7394', False),\n",
       " ('0391-3341', False),\n",
       " ('1122-0910', False),\n",
       " ('1723-7807', False),\n",
       " ('2282-2305', False),\n",
       " ('2724-6507', False),\n",
       " ('2724-6116', False),\n",
       " ('1827-1634', False),\n",
       " ('2724-6450', False),\n",
       " ('2724-606X', False),\n",
       " ('0026-4784', False),\n",
       " ('2724-5276', False),\n",
       " ('2724-5780', False),\n",
       " ('1827-1715', False),\n",
       " ('1970-8742', False),\n",
       " ('2532-5655', False),\n",
       " ('1970-8734', False),\n",
       " ('0384-3343', False),\n",
       " ('0315-5587', False),\n",
       " ('1827-1820', False),\n",
       " ('0392-0488', False),\n",
       " ('0300-1318', False),\n",
       " ('2784-8671', False),\n",
       " ('0393-5108', False),\n",
       " ('1764-1489', False),\n",
       " ('0397-9148', False),\n",
       " ('2426-3184', False),\n",
       " ('2035-8008', False),\n",
       " ('2038-1700', False),\n",
       " ('1974-983X', False),\n",
       " ('2533-1701', False),\n",
       " ('1974-9821', False),\n",
       " ('2283-5431', False),\n",
       " ('0002-1857', False),\n",
       " ('1923-1857', False),\n",
       " ('0193-1857', False),\n",
       " ('0002-9513', False),\n",
       " ('0002-4805', False),\n",
       " ('0363-6100', False),\n",
       " ('0391-9064', False),\n",
       " ('0026-4946', False),\n",
       " ('0037-8836', False),\n",
       " ('0391-0474', False),\n",
       " ('0392-0615', False),\n",
       " ('0369-0415', False),\n",
       " ('0023-8864', False),\n",
       " ('0391-0393', False),\n",
       " ('0035-6077', False),\n",
       " ('0394-9257', False),\n",
       " ('0016-6685', False),\n",
       " ('2724-5365', False),\n",
       " ('2724-5985', False),\n",
       " ('1121-421X', False),\n",
       " ('2036-0266', False),\n",
       " ('0223-5110', False),\n",
       " ('0223-4874', False),\n",
       " ('1123-9891', False),\n",
       " ('1123-9883', False),\n",
       " ('0224-2281', False),\n",
       " ('0709-2210', False),\n",
       " ('1824-5463', False),\n",
       " ('0393-4551', False),\n",
       " ('0393-456X', False),\n",
       " ('1124-3163', False),\n",
       " ('2385-264X', False),\n",
       " ('1121-9130', False),\n",
       " ('1618-2510', False),\n",
       " ('1831-9165', False),\n",
       " ('1831-1083', False),\n",
       " ('2532-1080', False),\n",
       " ('0025-7818', False),\n",
       " ('1125-3460', False),\n",
       " ('2239-6330', False),\n",
       " ('1825-8689', False),\n",
       " ('1120-2513', False),\n",
       " ('1120-2505', False),\n",
       " ('1803-2095', False),\n",
       " ('1827-1650', False),\n",
       " ('0002-0931', False),\n",
       " ('1121-1237', False),\n",
       " ('1121-1229', False),\n",
       " ('1827-8590', False),\n",
       " ('1973-2538', False),\n",
       " ('0390-8186', False),\n",
       " ('1827-1642', False),\n",
       " ('0391-1993', False),\n",
       " ('2724-5772', False),\n",
       " ('2724-5683', False),\n",
       " ('0026-4725', False),\n",
       " ('1972-4896', False),\n",
       " ('1972-4888', False),\n",
       " ('0360-4888', False),\n",
       " ('2577-9192', False),\n",
       " ('2576-4888', False),\n",
       " ('2499-6475', False),\n",
       " ('2499-6904', False),\n",
       " ('1592-1107', False),\n",
       " ('2284-0249', False),\n",
       " ('1724-2142', False),\n",
       " ('2037-6731', False),\n",
       " ('0393-5949', False),\n",
       " ('1827-1618', False),\n",
       " ('1638-4725', False),\n",
       " ('0026-6124', False),\n",
       " ('0335-7597', False),\n",
       " ('0997-7910', False),\n",
       " ('1240-277X', False),\n",
       " ('0391-1977', False),\n",
       " ('0391-5557', False),\n",
       " ('1591-1586', False),\n",
       " ('0391-6162', False),\n",
       " ('1977-0391', False),\n",
       " ('0391-4232', False),\n",
       " ('1977-0375', False),\n",
       " ('1977-0383', False),\n",
       " ('1972-5167', False),\n",
       " ('1721-0321', False),\n",
       " ('2724-6337', False),\n",
       " ('2724-6329', False),\n",
       " ('0026-4970', False),\n",
       " ('2035-603X', False),\n",
       " ('1720-3929', False),\n",
       " ('2039-5094', False),\n",
       " ('2533-2929', False),\n",
       " ('2039-5086', False),\n",
       " ('1974-6067', False),\n",
       " ('2533-2260', False),\n",
       " ('1974-6059', False),\n",
       " ('2281-8642', False),\n",
       " ('0260-8642', False),\n",
       " ('0143-2281', False),\n",
       " ('1972-554X', False),\n",
       " ('0392-5048', False),\n",
       " ('1972-5507', False),\n",
       " ('1720-4321', False),\n",
       " ('1120-9135', False),\n",
       " ('0029-6287', False),\n",
       " ('1864-1318', False),\n",
       " ('2036-458X', False),\n",
       " ('0039-3037', False),\n",
       " ('2280-7667', False),\n",
       " ('2280-7659', False),\n",
       " ('1125-1263', False),\n",
       " ('2283-6160', False),\n",
       " ('0391-9099', False),\n",
       " ('1827-1626', False),\n",
       " ('0026-4733', False),\n",
       " ('0026-4881', False),\n",
       " ('2724-5691', False),\n",
       " ('0392-3584', False),\n",
       " ('0390-9417', False),\n",
       " ('0366-6026', False),\n",
       " ('1120-4834', False),\n",
       " ('2035-6137', False),\n",
       " ('1590-9158', False),\n",
       " ('1170-7690', False),\n",
       " ('1972-5140', False),\n",
       " ('1591-4267', False),\n",
       " ('1972-5566', False),\n",
       " ('0390-6140', False),\n",
       " ('0390-6159', False),\n",
       " ('1724-2169', False),\n",
       " ('1122-8792', False),\n",
       " ('1122-9411', False),\n",
       " ('1972-5043', False),\n",
       " ('0394-2864', False),\n",
       " ('1724-4781', False),\n",
       " ('0391-9838', False),\n",
       " ('0084-8948', False),\n",
       " ('1724-4757', False),\n",
       " ('2036-3877', False),\n",
       " ('2035-9411', False),\n",
       " ('1972-4861', False),\n",
       " ('1826-7386', False),\n",
       " ('1973-7459', False),\n",
       " ('2533-2279', False),\n",
       " ('1973-7440', False),\n",
       " ('0046-5968', False),\n",
       " ('0393-1978', False),\n",
       " ('0542-268X', False),\n",
       " ('0390-5756', False),\n",
       " ('1129-471X', False),\n",
       " ('0300-8894', False),\n",
       " ('1827-1863', False),\n",
       " ('0025-7826', False),\n",
       " ('0369-2116', False),\n",
       " ('2239-7221', False),\n",
       " ('2239-1959', False),\n",
       " ('2837-2220', False),\n",
       " ('2837-2239', False),\n",
       " ('1971-8403', False),\n",
       " ('0392-4939', False),\n",
       " ('0004-0150', False),\n",
       " ('0390-5802', False),\n",
       " ('0150-6854', False),\n",
       " ('0150-6846', False),\n",
       " ('0004-1173', False),\n",
       " ('0004-5519', False),\n",
       " ('0150-5203', False),\n",
       " ('0035-3787', False),\n",
       " ('0020-0735', False),\n",
       " ('0040-3776', False),\n",
       " ('0340-0638', False),\n",
       " ('0048-2951', False),\n",
       " ('1124-4593', False),\n",
       " ('2611-4593', False),\n",
       " ('1124-240X', False),\n",
       " ('1825-3997', False),\n",
       " ('1129-5627', False),\n",
       " ('2612-2073', False),\n",
       " ('1121-4228', False),\n",
       " ('0393-6074', False),\n",
       " ('2785-0773', False),\n",
       " ('0035-6220', False),\n",
       " ('2036-6779', False),\n",
       " ('2036-671X', False),\n",
       " ('1974-8094', False),\n",
       " ('1972-5515', False),\n",
       " ('0391-6987', False),\n",
       " ('0017-0097', False),\n",
       " ('1125-2863', False),\n",
       " ('0391-4674', False),\n",
       " ('1125-288X', False),\n",
       " ('1125-2901', False),\n",
       " ('0097-1030', False),\n",
       " ('0097-3297', False),\n",
       " ('0017-3363', False),\n",
       " ('0017-8594', False),\n",
       " ('2037-7177', False),\n",
       " ('0392-7342', False),\n",
       " ('2036-5586', False),\n",
       " ('0035-6867', False),\n",
       " ('0394-4395', False),\n",
       " ('2038-1840', False),\n",
       " ('0034-1193', False),\n",
       " ('1121-8339', False),\n",
       " ('2284-3663', False),\n",
       " ('0037-8844', False),\n",
       " ('1124-3643', False),\n",
       " ('2281-5309', False),\n",
       " ('2533-2910', False),\n",
       " ('2281-5295', False),\n",
       " ('0035-6344', False),\n",
       " ('1122-035X', False),\n",
       " ('0391-8467', False),\n",
       " ('0393-0092', False),\n",
       " ('1124-1020', False),\n",
       " ('1723-2007', False),\n",
       " ('0041-1787', False),\n",
       " ('1972-5019', False),\n",
       " ('1122-5165', False),\n",
       " ('1827-1847', False),\n",
       " ('1824-4777', False),\n",
       " ('1122-8679', False),\n",
       " ('1827-1731', False),\n",
       " ('0391-1772', False),\n",
       " ('2724-6612', False),\n",
       " ('0374-9320', False),\n",
       " ('1590-1807', False),\n",
       " ('2038-5129', False),\n",
       " ('1122-6714', False),\n",
       " ('0004-0223', False),\n",
       " ('2612-2235', False),\n",
       " ('1127-3070', False),\n",
       " ('2034-6514', False),\n",
       " ('0392-7865', False),\n",
       " ('0393-9316', False),\n",
       " ('0003-9810', False),\n",
       " ('2281-289X', False),\n",
       " ('2533-2295', False),\n",
       " ('2281-2881', False),\n",
       " ('1971-0720', False),\n",
       " ('0720-5635', False),\n",
       " ('0720-5643', False),\n",
       " ('0720-1095', False),\n",
       " ('0720-1117', False),\n",
       " ('0455-2601', False),\n",
       " ('0720-230X', False),\n",
       " ('0390-6264', False),\n",
       " ('2037-7657', False),\n",
       " ('2037-7363', False),\n",
       " ('1720-8351', False),\n",
       " ('1590-170X', False),\n",
       " ('2036-4660', False),\n",
       " ('0391-7770', False),\n",
       " ('1724-5974', False),\n",
       " ('0394-9362', False),\n",
       " ('0393-4683', False),\n",
       " ('0393-4691', False),\n",
       " ('0392-1077', False),\n",
       " ('2036-4555', False),\n",
       " ('0392-7032', False),\n",
       " ('0027-2809', False),\n",
       " ('1088-7504', False),\n",
       " ('2282-5703', False),\n",
       " ('2035-357X', False),\n",
       " ('1120-3404', False),\n",
       " ('1972-4926', False),\n",
       " ('1121-1733', False),\n",
       " ('2282-0248', False),\n",
       " ('2281-8618', False),\n",
       " ('2724-542X', False),\n",
       " ('2724-5934', False),\n",
       " ('1827-160X', False),\n",
       " ('0365-4389', False),\n",
       " ('2531-7121', False),\n",
       " ('0417-9927', False),\n",
       " ('1122-6447', False),\n",
       " ('1825-652X', False),\n",
       " ('0392-9760', False),\n",
       " ('0392-8543', False),\n",
       " ('1972-5493', False),\n",
       " ('1120-0650', False),\n",
       " ('1977-0685', False),\n",
       " ('0019-901X', False),\n",
       " ('2039-6155', False),\n",
       " ('1721-7547', False),\n",
       " ('2038-5463', False),\n",
       " ('1590-6515', False),\n",
       " ('2038-5471', False),\n",
       " ('1121-7138', False),\n",
       " ('0391-5352', False),\n",
       " ('2612-2316', False),\n",
       " ('0300-340X', False),\n",
       " ('0009-7039', False),\n",
       " ('2389-394X', False),\n",
       " ('1080-7039', False),\n",
       " ('1724-1820', False),\n",
       " ('0081-6124', False),\n",
       " ('1972-5442', False),\n",
       " ('0391-2868', False),\n",
       " ('2037-0644', False),\n",
       " ('1827-4765', False),\n",
       " ('0085-5723', False),\n",
       " ('1972-523X', False),\n",
       " ('1127-0195', False),\n",
       " ('1827-188X', False),\n",
       " ('0392-7024', False),\n",
       " ('0392-6621', False),\n",
       " ('0030-6630', False),\n",
       " ('0026-4938', False),\n",
       " ('2724-6302', False),\n",
       " ('0301-3693', False),\n",
       " ('2038-1778', False),\n",
       " ('1592-5986', False),\n",
       " ('1120-3803', False),\n",
       " ('1826-722X', False),\n",
       " ('0049-2361', False),\n",
       " ('2611-7487', False),\n",
       " ('2531-7644', False),\n",
       " ('2035-7958', False),\n",
       " ('0031-4846', False),\n",
       " ('2035-889X', False),\n",
       " ('0017-0496', False),\n",
       " ('1128-174X', False),\n",
       " ('0496-0017', False),\n",
       " ('1971-4483', False),\n",
       " ('1825-8662', False),\n",
       " ('1593-2052', False),\n",
       " ('0392-064X', False),\n",
       " ('2038-033X', False),\n",
       " ('2533-1671', False),\n",
       " ('2038-0321', False),\n",
       " ('2035-1763', False),\n",
       " ('2533-1760', False),\n",
       " ('2035-1755', False),\n",
       " ('0022-4782', False),\n",
       " ('1122-9497', False),\n",
       " ('1873-4782', False),\n",
       " ('0022-5096', False),\n",
       " ('1721-5242', False),\n",
       " ('2283-7337', False),\n",
       " ('1827-1723', False),\n",
       " ('0026-4954', False),\n",
       " ('2784-8477', False),\n",
       " ('2036-4601', False),\n",
       " ('2035-5262', False),\n",
       " ('2035-6315', False),\n",
       " ('0024-1334', False),\n",
       " ('1122-0724', False),\n",
       " ('1972-4853', False),\n",
       " ('1825-8905', False),\n",
       " ('2975-1411', False),\n",
       " ('1124-1225', False),\n",
       " ('2239-9747', False),\n",
       " ('1972-5752', False),\n",
       " ('1590-7031', False),\n",
       " ('1972-5264', False),\n",
       " ('1721-6664', False),\n",
       " ('1827-1782', False),\n",
       " ('0394-9508', False),\n",
       " ('1126-8042', False),\n",
       " ('2239-0227', False),\n",
       " ('1121-7111', False),\n",
       " ('1128-6598', False),\n",
       " ('0026-0843', False),\n",
       " ('0365-7485', False),\n",
       " ('2035-7559', False),\n",
       " ('0005-8351', False),\n",
       " ('2038-9566', False),\n",
       " ('2038-9558', False),\n",
       " ('2038-5625', False),\n",
       " ('1824-8705', False),\n",
       " ('2612-0909', False),\n",
       " ('0393-8255', False),\n",
       " ('1825-0572', False),\n",
       " ('1972-5523', False),\n",
       " ('0391-2248', False),\n",
       " ('2592-0391', False),\n",
       " ('2118-2248', False),\n",
       " ('1972-5531', False),\n",
       " ('1720-4518', False),\n",
       " ('1124-1004', False),\n",
       " ('2282-2011', False),\n",
       " ('1972-5736', False),\n",
       " ('2282-2674', False),\n",
       " ('0001-9747', False),\n",
       " ('1972-487X', False),\n",
       " ('0392-2952', False),\n",
       " ('2036-2595', False),\n",
       " ('0035-6751', False),\n",
       " ('1865-1704', False),\n",
       " ('1970-5794', False),\n",
       " ('2035-7583', False),\n",
       " ('0035-6573', False),\n",
       " ('2038-3010', False),\n",
       " ('2038-3002', False),\n",
       " ('2612-4882', False),\n",
       " ('2612-4408', False),\n",
       " ('0392-0623', False),\n",
       " ('1125-8055', False),\n",
       " ('1126-7720', False),\n",
       " ('0300-0877', False),\n",
       " ('1970-6820', False),\n",
       " ('1593-5884', False),\n",
       " ('2281-6917', False),\n",
       " ('1123-7198', False),\n",
       " ('1973-6479', False),\n",
       " ('2035-2638', False),\n",
       " ('0390-0142', False),\n",
       " ('2283-4281', False),\n",
       " ('0015-1777', False),\n",
       " ('1971-680X', False),\n",
       " ('2533-2287', False),\n",
       " ('1971-6796', False),\n",
       " ('2284-1504', False),\n",
       " ('0392-6885', False),\n",
       " ('1125-2324', False),\n",
       " ('1125-2316', False),\n",
       " ('1972-4985', False),\n",
       " ('1971-0461', False),\n",
       " ('1591-2140', False),\n",
       " ('0391-2108', False),\n",
       " ('1973-9133', False),\n",
       " ('2283-5628', False),\n",
       " ('1972-5183', False),\n",
       " ('1123-4598', False),\n",
       " ('2038-9523', False),\n",
       " ('2038-9515', False),\n",
       " ('2240-2594', False),\n",
       " ('2532-1056', False),\n",
       " ('1128-9155', False),\n",
       " ('0392-4610', False),\n",
       " ('2785-3039', False),\n",
       " ('2784-9015', False),\n",
       " ('2385-0698', False),\n",
       " ('0024-3868', False),\n",
       " ('2039-1668', False),\n",
       " ('2039-165X', False),\n",
       " ('0004-0312', False),\n",
       " ('0016-5670', False),\n",
       " ('0393-3660', False),\n",
       " ('0312-0430', False),\n",
       " ('0312-2859', False),\n",
       " ('0004-9565', False),\n",
       " ('0004-8585', False),\n",
       " ('0312-407X', False),\n",
       " ('0312-7923', False),\n",
       " ('0312-7990', False),\n",
       " ('1971-159X', False),\n",
       " ('1594-3755', False),\n",
       " ('1827-1685', False),\n",
       " ('0026-4903', False),\n",
       " ('2785-1265', False),\n",
       " ('0390-279X', False),\n",
       " ('2036-4563', False),\n",
       " ('0392-7202', False),\n",
       " ('0021-2938', False),\n",
       " ('0434-0272', False),\n",
       " ('0580-2938', False),\n",
       " ('0021-8413', False),\n",
       " ('0449-2102', False),\n",
       " ('1972-5477', False),\n",
       " ('0394-1248', False),\n",
       " ('2037-7916', False),\n",
       " ('2037-7908', False),\n",
       " ('0006-6648', False),\n",
       " ('0393-6244', False),\n",
       " ('0394-106X', False),\n",
       " ('0004-0320', False),\n",
       " ('0365-141X', False),\n",
       " ('0320-7021', False),\n",
       " ('2036-0932', False),\n",
       " ('1973-9648', False),\n",
       " ('0335-1793', False),\n",
       " ('2555-9648', False),\n",
       " ('2283-7140', False),\n",
       " ('2284-4864', False),\n",
       " ('2036-0924', False),\n",
       " ('1973-9621', False),\n",
       " ('0240-9003', False),\n",
       " ('1124-9064', False),\n",
       " ('0076-101X', False),\n",
       " ('2531-6753', False),\n",
       " ('1721-0135', False),\n",
       " ('2036-0916', False),\n",
       " ('1974-7640', False),\n",
       " ('0587-2421', False),\n",
       " ('2421-0587', False),\n",
       " ('2532-3830', False),\n",
       " ('1971-8772', False),\n",
       " ('1127-8951', False),\n",
       " ('2035-7966', False),\n",
       " ('0081-6248', False),\n",
       " ('2279-8994', False),\n",
       " ('0366-0060', False),\n",
       " ('0006-2995', False),\n",
       " ('1972-5051', False),\n",
       " ('1971-0399', False),\n",
       " ('0399-340X', False),\n",
       " ('0399-3396', False),\n",
       " ('0399-5895', False),\n",
       " ('0151-8879', False),\n",
       " ('0399-3892', False),\n",
       " ('0024-9149', False),\n",
       " ('1169-2014', False),\n",
       " ('1720-836X', False),\n",
       " ('1592-3894', False),\n",
       " ('1120-3137', False),\n",
       " ('2038-727X', False),\n",
       " ('2704-6230', False),\n",
       " ('2036-0894', False),\n",
       " ('1973-9656', False),\n",
       " ('1650-4658', False),\n",
       " ('2327-9656', False),\n",
       " ('1590-8658', False),\n",
       " ('1126-7712', False),\n",
       " ('0035-6336', False),\n",
       " ('2035-648X', False),\n",
       " ('1591-996X', False),\n",
       " ('1973-8102', False),\n",
       " ('0010-9452', False),\n",
       " ('1573-7284', False),\n",
       " ('0393-2990', False),\n",
       " ('1720-8386', False),\n",
       " ('0391-4097', False),\n",
       " ('1121-1369', False),\n",
       " ('1878-3562', False),\n",
       " ('1594-5804', False),\n",
       " ('1827-6121', False),\n",
       " ('0392-6737', False),\n",
       " ('1124-1845', False),\n",
       " ('1124-1918', False),\n",
       " ('1590-3478', False),\n",
       " ('1590-1874', False),\n",
       " ('0392-0461', False),\n",
       " ('1590-3729', False),\n",
       " ('0939-4753', False),\n",
       " ('2051-5545', False),\n",
       " ('1723-8617', False),\n",
       " ('1697-0683', False),\n",
       " ('1720-8319', False),\n",
       " ('1594-0667', False),\n",
       " ('0394-9532', False),\n",
       " ('0667-1594', False),\n",
       " ('1879-1662', False),\n",
       " ('0393-0440', False),\n",
       " ('1128-045X', False),\n",
       " ('1123-6337', False),\n",
       " ('1126-6937', False),\n",
       " ('1724-191X', False),\n",
       " ('1120-1797', False),\n",
       " ('1120-1916', False),\n",
       " ('1724-6059', False),\n",
       " ('1121-8428', False),\n",
       " ('1120-3625', False),\n",
       " ('1826-9893', False),\n",
       " ('1126-5442', False),\n",
       " ('1121-6085', False),\n",
       " ('2154-1809', False),\n",
       " ('0270-5664', False),\n",
       " ('0039-2979', False),\n",
       " ('2385-1996', False),\n",
       " ('1971-4009', False),\n",
       " ('1120-9976', False),\n",
       " ('1971-3495', False),\n",
       " ('1876-7931', False),\n",
       " ('2385-2623', False),\n",
       " ('2037-4631', False),\n",
       " ('1120-6349', False),\n",
       " ('0391-7789', False),\n",
       " ('1724-2134', False),\n",
       " ('0223-5102', False),\n",
       " ('2038-1816', False),\n",
       " ('1121-189X', False),\n",
       " ('2045-7960', False),\n",
       " ('1827-4331', False),\n",
       " ('0392-8764', False),\n",
       " ('2369-0739', False),\n",
       " ('1825-1234', False),\n",
       " ('1824-7490', False),\n",
       " ('1724-6075', False),\n",
       " ('0391-5603', False),\n",
       " ('0376-0065', False),\n",
       " ('1827-1510', False),\n",
       " ('0430-3202', False),\n",
       " ('0365-7833', False),\n",
       " ('0842-3202', False),\n",
       " ('0713-0430', False),\n",
       " ('0710-8613', False),\n",
       " ('1878-6057', False),\n",
       " ('0390-6035', False),\n",
       " ('0254-0584', False),\n",
       " ('1724-1693', False),\n",
       " ('0392-6338', False),\n",
       " ('1827-1855', False),\n",
       " ('0390-5616', False),\n",
       " ('1827-191X', False),\n",
       " ('0021-9509', False),\n",
       " ('2282-4324', False),\n",
       " ('1827-1758', False),\n",
       " ('0026-4989', False),\n",
       " ('0026-4873', False),\n",
       " ('1724-6083', False),\n",
       " ('0393-974X', False),\n",
       " ('2385-2674', False),\n",
       " ('0370-7377', False),\n",
       " ('1424-9286', False),\n",
       " ('1720-0776', False),\n",
       " ('1120-6365', False),\n",
       " ('1121-3094', False),\n",
       " ('0392-7881', False),\n",
       " ('2385-2003', False),\n",
       " ('1827-6679', False),\n",
       " ('2533-2244', False),\n",
       " ('1827-6660', False),\n",
       " ('0391-2612', False),\n",
       " ('2612-050X', False),\n",
       " ('2612-0372', False),\n",
       " ('2612-2324', False),\n",
       " ('0391-8505', False),\n",
       " ('0391-8009', False),\n",
       " ('0391-1691', False),\n",
       " ('0391-8203', False),\n",
       " ('0391-7576', False),\n",
       " ('2612-2774', False),\n",
       " ('0003-9829', False),\n",
       " ('0010-3462', False),\n",
       " ('1824-3096', False),\n",
       " ('0393-9383', False),\n",
       " ('2612-2030', False),\n",
       " ('1120-9488', False),\n",
       " ('1827-1936', False),\n",
       " ('1824-4785', False),\n",
       " ('1125-0135', False),\n",
       " ('2284-0273', False),\n",
       " ('2284-0265', False),\n",
       " ('2035-9969', False),\n",
       " ('2784-8450', False),\n",
       " ('2784-8329', False),\n",
       " ('1827-8671', False),\n",
       " ('2281-7875', False),\n",
       " ('2254-3902', False),\n",
       " ('1575-9822', False),\n",
       " ('1724-2150', False),\n",
       " ('1825-151X', False),\n",
       " ('1127-0020', False),\n",
       " ('0369-8963', False),\n",
       " ('0374-9444', False),\n",
       " ('1826-9869', False),\n",
       " ('1124-1861', False),\n",
       " ('1434-6044', False),\n",
       " ('1828-6011', False),\n",
       " ('2533-1728', False),\n",
       " ('1828-6003', False),\n",
       " ('2239-4397', False),\n",
       " ('2239-0391', False),\n",
       " ('0032-325X', False),\n",
       " ('1590-0401', False),\n",
       " ('2724-5438', False),\n",
       " ('2038-2502', False),\n",
       " ('0035-6484', False),\n",
       " ('1827-4463', False),\n",
       " ('1124-3171', False),\n",
       " ('1124-9390', False),\n",
       " ('1129-8723', False),\n",
       " ('2039-6821', False),\n",
       " ('1825-859X', False),\n",
       " ('0043-8979', False),\n",
       " ('2035-8016', False),\n",
       " ('0392-3037', False),\n",
       " ('0444-8316', False),\n",
       " ('2038-1689', False),\n",
       " ('0366-2241', False),\n",
       " ('2036-9921', False),\n",
       " ('2533-168X', False),\n",
       " ('2036-9913', False),\n",
       " ('2035-4606', False),\n",
       " ('1722-6996', False),\n",
       " ('1120-6012', False),\n",
       " ('1973-8250', False),\n",
       " ('0392-839X', False),\n",
       " ('2035-4614', False)]"
      ]
     },
     "execution_count": 69,
     "metadata": {},
     "output_type": "execute_result"
    }
   ],
   "source": [
    "[(k,v) for k,v in issns.items() if not v]"
   ]
  },
  {
   "cell_type": "code",
   "execution_count": 13,
   "id": "bcf38ece",
   "metadata": {},
   "outputs": [
    {
     "data": {
      "text/plain": [
       "(167, 437, 283)"
      ]
     },
     "execution_count": 13,
     "metadata": {},
     "output_type": "execute_result"
    }
   ],
   "source": [
    "len(djournals), len(oajournals), len(closedjournals)"
   ]
  },
  {
   "cell_type": "code",
   "execution_count": 37,
   "id": "ec5dd094",
   "metadata": {},
   "outputs": [
    {
     "data": {
      "text/plain": [
       "(167, 604, 327)"
      ]
     },
     "execution_count": 37,
     "metadata": {},
     "output_type": "execute_result"
    }
   ],
   "source": [
    "len(djournals), len(oajournals), len(closedjournals)"
   ]
  },
  {
   "cell_type": "code",
   "execution_count": 11,
   "id": "324857c9",
   "metadata": {},
   "outputs": [
    {
     "data": {
      "application/vnd.jupyter.widget-view+json": {
       "model_id": "4513c4625b4b4b6d85bdcc5b3dc95ae0",
       "version_major": 2,
       "version_minor": 0
      },
      "text/plain": [
       "  0%|          | 0/167 [00:00<?, ?it/s]"
      ]
     },
     "metadata": {},
     "output_type": "display_data"
    }
   ],
   "source": [
    "tjournals = {'diamond':{'name':'diamond_journals', 'years': {}}}\n",
    "for k,v in tqdm(djournals.items()):\n",
    "\t#print(v)\n",
    "\tfor year, n_pubs in v['years'].items():\n",
    "\t\tif not year in tjournals['diamond']['years']: tjournals['diamond']['years'][year] = 0\n",
    "\t\ttjournals['diamond']['years'][year] += n_pubs "
   ]
  },
  {
   "cell_type": "code",
   "execution_count": 11,
   "id": "39812079",
   "metadata": {},
   "outputs": [],
   "source": [
    "d_journals = list(djournals.values())"
   ]
  },
  {
   "cell_type": "code",
   "execution_count": 12,
   "id": "4f4d6cc1",
   "metadata": {},
   "outputs": [],
   "source": [
    "t_journals = list(tjournals.values())"
   ]
  },
  {
   "cell_type": "code",
   "execution_count": 13,
   "id": "d847ef3b-6fff-4ec6-8fd0-cc3caf0c163d",
   "metadata": {},
   "outputs": [],
   "source": [
    "import plotly.graph_objects as go\n",
    "import ipywidgets as widgets\n",
    "from IPython.display import display"
   ]
  },
  {
   "cell_type": "code",
   "execution_count": 14,
   "id": "21b6a10f-1e76-4bd7-a628-c545979cea32",
   "metadata": {},
   "outputs": [],
   "source": [
    "journal_names = [journal['name'] for journal in t_journals]\n",
    "total_journals = len(journal_names)"
   ]
  },
  {
   "cell_type": "code",
   "execution_count": 15,
   "id": "22fac8ee-cd47-4866-a672-788bd770474d",
   "metadata": {},
   "outputs": [],
   "source": [
    "items_per_page_dropdown = widgets.Dropdown(\n",
    "    options=[5, 10, 20, 50, 100],\n",
    "    value=5,\n",
    "    description='Items/Page',\n",
    "    layout={'width': '30%'}\n",
    ")"
   ]
  },
  {
   "cell_type": "code",
   "execution_count": 16,
   "id": "eb2564e4-f363-44ae-a2b5-55f753f45ec0",
   "metadata": {},
   "outputs": [],
   "source": [
    "current_page = 0\n",
    "items_per_page = items_per_page_dropdown.value"
   ]
  },
  {
   "cell_type": "code",
   "execution_count": 17,
   "id": "482b487f-167d-4aea-8f18-0788a4cdd2eb",
   "metadata": {},
   "outputs": [],
   "source": [
    "prev_button = widgets.Button(description=\"Previous\")\n",
    "next_button = widgets.Button(description=\"Next\")"
   ]
  },
  {
   "cell_type": "code",
   "execution_count": 51,
   "id": "5eeb8c39-6f69-4b3a-8c4b-7679b46b7af4",
   "metadata": {
    "tags": []
   },
   "outputs": [],
   "source": [
    "def update_plot():\n",
    "    global current_page, items_per_page\n",
    "\n",
    "    # Determine the range of journals to display\n",
    "    start_idx = current_page * items_per_page\n",
    "    end_idx = min(start_idx + items_per_page, total_journals)\n",
    "    selected_journals = journal_names[start_idx:end_idx]\n",
    "\n",
    "    # Create figure\n",
    "    fig = go.Figure()\n",
    "\n",
    "    for journal in t_journals:\n",
    "        if journal['name'] in selected_journals:\n",
    "            journal_name = journal['name']\n",
    "            year_data = journal['years']\n",
    "            \n",
    "            x = sorted(year_data.keys())  # Ensure years are sorted\n",
    "            y = [year_data[year] for year in x]  # Get publication counts\n",
    "            \n",
    "            fig.add_trace(go.Scatter(x=x, y=y, mode='lines+markers', name=journal_name))\n",
    "\n",
    "    fig.update_layout(\n",
    "        title=f\"Diamond Publications (Page {current_page + 1})\",\n",
    "        xaxis_title=\"Year\",\n",
    "        yaxis_title=\"Publications\",\n",
    "        template=\"plotly_dark\",\n",
    "        height=600,\n",
    "        width=1024,\n",
    "        legend=dict(\n",
    "            orientation=\"h\",\n",
    "            yanchor=\"bottom\",\n",
    "            y=-0.5,\n",
    "            xanchor=\"center\",\n",
    "            x=0.5\n",
    "        )\n",
    "    )\n",
    "\n",
    "    # Clear previous output and display updated plot\n",
    "    output.clear_output(wait=True)\n",
    "    with output:\n",
    "        display(fig)"
   ]
  },
  {
   "cell_type": "code",
   "execution_count": 19,
   "id": "8cdbabfb-2a08-41ea-b642-ceee89204816",
   "metadata": {},
   "outputs": [],
   "source": [
    "def prev_page(_):\n",
    "    global current_page\n",
    "    if current_page > 0:\n",
    "        current_page -= 1\n",
    "        update_plot()\n",
    "        \n",
    "def next_page(_):\n",
    "    global current_page\n",
    "    if (current_page + 1) * items_per_page < total_journals:\n",
    "        current_page += 1\n",
    "        update_plot()"
   ]
  },
  {
   "cell_type": "code",
   "execution_count": 20,
   "id": "4607d764-0981-49f5-b406-13fce980c6d8",
   "metadata": {},
   "outputs": [],
   "source": [
    "def update_items_per_page(change):\n",
    "    global items_per_page, current_page\n",
    "    items_per_page = change['new']\n",
    "    current_page = 0  # Reset to first page\n",
    "    update_plot()"
   ]
  },
  {
   "cell_type": "code",
   "execution_count": 52,
   "id": "47b8b967-4b8d-406a-9389-5492c731f55c",
   "metadata": {},
   "outputs": [
    {
     "data": {
      "application/vnd.jupyter.widget-view+json": {
       "model_id": "94672efca43f49bb9f17cca2a331071e",
       "version_major": 2,
       "version_minor": 0
      },
      "text/plain": [
       "Output()"
      ]
     },
     "metadata": {},
     "output_type": "display_data"
    },
    {
     "data": {
      "application/vnd.plotly.v1+json": {
       "config": {
        "plotlyServerURL": "https://plot.ly"
       },
       "data": [
        {
         "mode": "lines+markers",
         "name": "diamond_journals",
         "type": "scatter",
         "x": [
          1905,
          1947,
          1948,
          1949,
          1950,
          1951,
          1952,
          1953,
          1954,
          1955,
          1956,
          1957,
          1958,
          1959,
          1960,
          1961,
          1962,
          1963,
          1964,
          1965,
          1966,
          1967,
          1968,
          1969,
          1970,
          1971,
          1972,
          1973,
          1974,
          1975,
          1976,
          1977,
          1978,
          1979,
          1980,
          1981,
          1982,
          1983,
          1984,
          1985,
          1986,
          1987,
          1988,
          1989,
          1990,
          1991,
          1992,
          1993,
          1994,
          1995,
          1996,
          1997,
          1998,
          1999,
          2000,
          2001,
          2002,
          2003,
          2004,
          2005,
          2006,
          2007,
          2008,
          2009,
          2010,
          2011,
          2012,
          2013,
          2014,
          2015,
          2016,
          2017,
          2018,
          2019,
          2020,
          2021,
          2022,
          2023,
          2024,
          2054
         ],
         "y": [
          1,
          13,
          57,
          50,
          51,
          44,
          54,
          122,
          128,
          77,
          111,
          106,
          95,
          56,
          71,
          52,
          74,
          103,
          91,
          51,
          45,
          74,
          124,
          75,
          256,
          75,
          68,
          32,
          45,
          79,
          40,
          78,
          37,
          42,
          40,
          39,
          40,
          38,
          47,
          78,
          95,
          108,
          88,
          181,
          190,
          222,
          196,
          184,
          222,
          322,
          257,
          212,
          274,
          182,
          254,
          224,
          275,
          558,
          441,
          654,
          687,
          711,
          820,
          1864,
          1556,
          2548,
          2653,
          3026,
          2968,
          2811,
          3025,
          3212,
          3560,
          3992,
          4553,
          4090,
          3928,
          3985,
          2759,
          1
         ]
        }
       ],
       "layout": {
        "height": 600,
        "legend": {
         "orientation": "h",
         "x": 0.5,
         "xanchor": "center",
         "y": -0.5,
         "yanchor": "bottom"
        },
        "template": {
         "data": {
          "bar": [
           {
            "error_x": {
             "color": "#f2f5fa"
            },
            "error_y": {
             "color": "#f2f5fa"
            },
            "marker": {
             "line": {
              "color": "rgb(17,17,17)",
              "width": 0.5
             },
             "pattern": {
              "fillmode": "overlay",
              "size": 10,
              "solidity": 0.2
             }
            },
            "type": "bar"
           }
          ],
          "barpolar": [
           {
            "marker": {
             "line": {
              "color": "rgb(17,17,17)",
              "width": 0.5
             },
             "pattern": {
              "fillmode": "overlay",
              "size": 10,
              "solidity": 0.2
             }
            },
            "type": "barpolar"
           }
          ],
          "carpet": [
           {
            "aaxis": {
             "endlinecolor": "#A2B1C6",
             "gridcolor": "#506784",
             "linecolor": "#506784",
             "minorgridcolor": "#506784",
             "startlinecolor": "#A2B1C6"
            },
            "baxis": {
             "endlinecolor": "#A2B1C6",
             "gridcolor": "#506784",
             "linecolor": "#506784",
             "minorgridcolor": "#506784",
             "startlinecolor": "#A2B1C6"
            },
            "type": "carpet"
           }
          ],
          "choropleth": [
           {
            "colorbar": {
             "outlinewidth": 0,
             "ticks": ""
            },
            "type": "choropleth"
           }
          ],
          "contour": [
           {
            "colorbar": {
             "outlinewidth": 0,
             "ticks": ""
            },
            "colorscale": [
             [
              0,
              "#0d0887"
             ],
             [
              0.1111111111111111,
              "#46039f"
             ],
             [
              0.2222222222222222,
              "#7201a8"
             ],
             [
              0.3333333333333333,
              "#9c179e"
             ],
             [
              0.4444444444444444,
              "#bd3786"
             ],
             [
              0.5555555555555556,
              "#d8576b"
             ],
             [
              0.6666666666666666,
              "#ed7953"
             ],
             [
              0.7777777777777778,
              "#fb9f3a"
             ],
             [
              0.8888888888888888,
              "#fdca26"
             ],
             [
              1,
              "#f0f921"
             ]
            ],
            "type": "contour"
           }
          ],
          "contourcarpet": [
           {
            "colorbar": {
             "outlinewidth": 0,
             "ticks": ""
            },
            "type": "contourcarpet"
           }
          ],
          "heatmap": [
           {
            "colorbar": {
             "outlinewidth": 0,
             "ticks": ""
            },
            "colorscale": [
             [
              0,
              "#0d0887"
             ],
             [
              0.1111111111111111,
              "#46039f"
             ],
             [
              0.2222222222222222,
              "#7201a8"
             ],
             [
              0.3333333333333333,
              "#9c179e"
             ],
             [
              0.4444444444444444,
              "#bd3786"
             ],
             [
              0.5555555555555556,
              "#d8576b"
             ],
             [
              0.6666666666666666,
              "#ed7953"
             ],
             [
              0.7777777777777778,
              "#fb9f3a"
             ],
             [
              0.8888888888888888,
              "#fdca26"
             ],
             [
              1,
              "#f0f921"
             ]
            ],
            "type": "heatmap"
           }
          ],
          "histogram": [
           {
            "marker": {
             "pattern": {
              "fillmode": "overlay",
              "size": 10,
              "solidity": 0.2
             }
            },
            "type": "histogram"
           }
          ],
          "histogram2d": [
           {
            "colorbar": {
             "outlinewidth": 0,
             "ticks": ""
            },
            "colorscale": [
             [
              0,
              "#0d0887"
             ],
             [
              0.1111111111111111,
              "#46039f"
             ],
             [
              0.2222222222222222,
              "#7201a8"
             ],
             [
              0.3333333333333333,
              "#9c179e"
             ],
             [
              0.4444444444444444,
              "#bd3786"
             ],
             [
              0.5555555555555556,
              "#d8576b"
             ],
             [
              0.6666666666666666,
              "#ed7953"
             ],
             [
              0.7777777777777778,
              "#fb9f3a"
             ],
             [
              0.8888888888888888,
              "#fdca26"
             ],
             [
              1,
              "#f0f921"
             ]
            ],
            "type": "histogram2d"
           }
          ],
          "histogram2dcontour": [
           {
            "colorbar": {
             "outlinewidth": 0,
             "ticks": ""
            },
            "colorscale": [
             [
              0,
              "#0d0887"
             ],
             [
              0.1111111111111111,
              "#46039f"
             ],
             [
              0.2222222222222222,
              "#7201a8"
             ],
             [
              0.3333333333333333,
              "#9c179e"
             ],
             [
              0.4444444444444444,
              "#bd3786"
             ],
             [
              0.5555555555555556,
              "#d8576b"
             ],
             [
              0.6666666666666666,
              "#ed7953"
             ],
             [
              0.7777777777777778,
              "#fb9f3a"
             ],
             [
              0.8888888888888888,
              "#fdca26"
             ],
             [
              1,
              "#f0f921"
             ]
            ],
            "type": "histogram2dcontour"
           }
          ],
          "mesh3d": [
           {
            "colorbar": {
             "outlinewidth": 0,
             "ticks": ""
            },
            "type": "mesh3d"
           }
          ],
          "parcoords": [
           {
            "line": {
             "colorbar": {
              "outlinewidth": 0,
              "ticks": ""
             }
            },
            "type": "parcoords"
           }
          ],
          "pie": [
           {
            "automargin": true,
            "type": "pie"
           }
          ],
          "scatter": [
           {
            "marker": {
             "line": {
              "color": "#283442"
             }
            },
            "type": "scatter"
           }
          ],
          "scatter3d": [
           {
            "line": {
             "colorbar": {
              "outlinewidth": 0,
              "ticks": ""
             }
            },
            "marker": {
             "colorbar": {
              "outlinewidth": 0,
              "ticks": ""
             }
            },
            "type": "scatter3d"
           }
          ],
          "scattercarpet": [
           {
            "marker": {
             "colorbar": {
              "outlinewidth": 0,
              "ticks": ""
             }
            },
            "type": "scattercarpet"
           }
          ],
          "scattergeo": [
           {
            "marker": {
             "colorbar": {
              "outlinewidth": 0,
              "ticks": ""
             }
            },
            "type": "scattergeo"
           }
          ],
          "scattergl": [
           {
            "marker": {
             "line": {
              "color": "#283442"
             }
            },
            "type": "scattergl"
           }
          ],
          "scattermap": [
           {
            "marker": {
             "colorbar": {
              "outlinewidth": 0,
              "ticks": ""
             }
            },
            "type": "scattermap"
           }
          ],
          "scattermapbox": [
           {
            "marker": {
             "colorbar": {
              "outlinewidth": 0,
              "ticks": ""
             }
            },
            "type": "scattermapbox"
           }
          ],
          "scatterpolar": [
           {
            "marker": {
             "colorbar": {
              "outlinewidth": 0,
              "ticks": ""
             }
            },
            "type": "scatterpolar"
           }
          ],
          "scatterpolargl": [
           {
            "marker": {
             "colorbar": {
              "outlinewidth": 0,
              "ticks": ""
             }
            },
            "type": "scatterpolargl"
           }
          ],
          "scatterternary": [
           {
            "marker": {
             "colorbar": {
              "outlinewidth": 0,
              "ticks": ""
             }
            },
            "type": "scatterternary"
           }
          ],
          "surface": [
           {
            "colorbar": {
             "outlinewidth": 0,
             "ticks": ""
            },
            "colorscale": [
             [
              0,
              "#0d0887"
             ],
             [
              0.1111111111111111,
              "#46039f"
             ],
             [
              0.2222222222222222,
              "#7201a8"
             ],
             [
              0.3333333333333333,
              "#9c179e"
             ],
             [
              0.4444444444444444,
              "#bd3786"
             ],
             [
              0.5555555555555556,
              "#d8576b"
             ],
             [
              0.6666666666666666,
              "#ed7953"
             ],
             [
              0.7777777777777778,
              "#fb9f3a"
             ],
             [
              0.8888888888888888,
              "#fdca26"
             ],
             [
              1,
              "#f0f921"
             ]
            ],
            "type": "surface"
           }
          ],
          "table": [
           {
            "cells": {
             "fill": {
              "color": "#506784"
             },
             "line": {
              "color": "rgb(17,17,17)"
             }
            },
            "header": {
             "fill": {
              "color": "#2a3f5f"
             },
             "line": {
              "color": "rgb(17,17,17)"
             }
            },
            "type": "table"
           }
          ]
         },
         "layout": {
          "annotationdefaults": {
           "arrowcolor": "#f2f5fa",
           "arrowhead": 0,
           "arrowwidth": 1
          },
          "autotypenumbers": "strict",
          "coloraxis": {
           "colorbar": {
            "outlinewidth": 0,
            "ticks": ""
           }
          },
          "colorscale": {
           "diverging": [
            [
             0,
             "#8e0152"
            ],
            [
             0.1,
             "#c51b7d"
            ],
            [
             0.2,
             "#de77ae"
            ],
            [
             0.3,
             "#f1b6da"
            ],
            [
             0.4,
             "#fde0ef"
            ],
            [
             0.5,
             "#f7f7f7"
            ],
            [
             0.6,
             "#e6f5d0"
            ],
            [
             0.7,
             "#b8e186"
            ],
            [
             0.8,
             "#7fbc41"
            ],
            [
             0.9,
             "#4d9221"
            ],
            [
             1,
             "#276419"
            ]
           ],
           "sequential": [
            [
             0,
             "#0d0887"
            ],
            [
             0.1111111111111111,
             "#46039f"
            ],
            [
             0.2222222222222222,
             "#7201a8"
            ],
            [
             0.3333333333333333,
             "#9c179e"
            ],
            [
             0.4444444444444444,
             "#bd3786"
            ],
            [
             0.5555555555555556,
             "#d8576b"
            ],
            [
             0.6666666666666666,
             "#ed7953"
            ],
            [
             0.7777777777777778,
             "#fb9f3a"
            ],
            [
             0.8888888888888888,
             "#fdca26"
            ],
            [
             1,
             "#f0f921"
            ]
           ],
           "sequentialminus": [
            [
             0,
             "#0d0887"
            ],
            [
             0.1111111111111111,
             "#46039f"
            ],
            [
             0.2222222222222222,
             "#7201a8"
            ],
            [
             0.3333333333333333,
             "#9c179e"
            ],
            [
             0.4444444444444444,
             "#bd3786"
            ],
            [
             0.5555555555555556,
             "#d8576b"
            ],
            [
             0.6666666666666666,
             "#ed7953"
            ],
            [
             0.7777777777777778,
             "#fb9f3a"
            ],
            [
             0.8888888888888888,
             "#fdca26"
            ],
            [
             1,
             "#f0f921"
            ]
           ]
          },
          "colorway": [
           "#636efa",
           "#EF553B",
           "#00cc96",
           "#ab63fa",
           "#FFA15A",
           "#19d3f3",
           "#FF6692",
           "#B6E880",
           "#FF97FF",
           "#FECB52"
          ],
          "font": {
           "color": "#f2f5fa"
          },
          "geo": {
           "bgcolor": "rgb(17,17,17)",
           "lakecolor": "rgb(17,17,17)",
           "landcolor": "rgb(17,17,17)",
           "showlakes": true,
           "showland": true,
           "subunitcolor": "#506784"
          },
          "hoverlabel": {
           "align": "left"
          },
          "hovermode": "closest",
          "mapbox": {
           "style": "dark"
          },
          "paper_bgcolor": "rgb(17,17,17)",
          "plot_bgcolor": "rgb(17,17,17)",
          "polar": {
           "angularaxis": {
            "gridcolor": "#506784",
            "linecolor": "#506784",
            "ticks": ""
           },
           "bgcolor": "rgb(17,17,17)",
           "radialaxis": {
            "gridcolor": "#506784",
            "linecolor": "#506784",
            "ticks": ""
           }
          },
          "scene": {
           "xaxis": {
            "backgroundcolor": "rgb(17,17,17)",
            "gridcolor": "#506784",
            "gridwidth": 2,
            "linecolor": "#506784",
            "showbackground": true,
            "ticks": "",
            "zerolinecolor": "#C8D4E3"
           },
           "yaxis": {
            "backgroundcolor": "rgb(17,17,17)",
            "gridcolor": "#506784",
            "gridwidth": 2,
            "linecolor": "#506784",
            "showbackground": true,
            "ticks": "",
            "zerolinecolor": "#C8D4E3"
           },
           "zaxis": {
            "backgroundcolor": "rgb(17,17,17)",
            "gridcolor": "#506784",
            "gridwidth": 2,
            "linecolor": "#506784",
            "showbackground": true,
            "ticks": "",
            "zerolinecolor": "#C8D4E3"
           }
          },
          "shapedefaults": {
           "line": {
            "color": "#f2f5fa"
           }
          },
          "sliderdefaults": {
           "bgcolor": "#C8D4E3",
           "bordercolor": "rgb(17,17,17)",
           "borderwidth": 1,
           "tickwidth": 0
          },
          "ternary": {
           "aaxis": {
            "gridcolor": "#506784",
            "linecolor": "#506784",
            "ticks": ""
           },
           "baxis": {
            "gridcolor": "#506784",
            "linecolor": "#506784",
            "ticks": ""
           },
           "bgcolor": "rgb(17,17,17)",
           "caxis": {
            "gridcolor": "#506784",
            "linecolor": "#506784",
            "ticks": ""
           }
          },
          "title": {
           "x": 0.05
          },
          "updatemenudefaults": {
           "bgcolor": "#506784",
           "borderwidth": 0
          },
          "xaxis": {
           "automargin": true,
           "gridcolor": "#283442",
           "linecolor": "#506784",
           "ticks": "",
           "title": {
            "standoff": 15
           },
           "zerolinecolor": "#283442",
           "zerolinewidth": 2
          },
          "yaxis": {
           "automargin": true,
           "gridcolor": "#283442",
           "linecolor": "#506784",
           "ticks": "",
           "title": {
            "standoff": 15
           },
           "zerolinecolor": "#283442",
           "zerolinewidth": 2
          }
         }
        },
        "title": {
         "text": "Diamond Publications (Page 1)"
        },
        "width": 1024,
        "xaxis": {
         "title": {
          "text": "Year"
         }
        },
        "yaxis": {
         "title": {
          "text": "Publications"
         }
        }
       }
      }
     },
     "metadata": {},
     "output_type": "display_data"
    }
   ],
   "source": [
    "prev_button.on_click(prev_page)\n",
    "next_button.on_click(next_page)\n",
    "items_per_page_dropdown.observe(update_items_per_page, names='value')\n",
    "\n",
    "output = widgets.Output()\n",
    "\n",
    "#display(items_per_page_dropdown, prev_button, next_button, output)\n",
    "display(output)\n",
    "update_plot()"
   ]
  },
  {
   "cell_type": "code",
   "execution_count": null,
   "id": "82873eda",
   "metadata": {},
   "outputs": [],
   "source": []
  }
 ],
 "metadata": {
  "kernelspec": {
   "display_name": "diamond",
   "language": "python",
   "name": "python3"
  },
  "language_info": {
   "codemirror_mode": {
    "name": "ipython",
    "version": 3
   },
   "file_extension": ".py",
   "mimetype": "text/x-python",
   "name": "python",
   "nbconvert_exporter": "python",
   "pygments_lexer": "ipython3",
   "version": "3.13.1"
  }
 },
 "nbformat": 4,
 "nbformat_minor": 5
}
