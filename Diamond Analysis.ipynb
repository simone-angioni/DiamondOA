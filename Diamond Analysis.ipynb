{
 "cells": [
  {
   "cell_type": "code",
   "execution_count": 1,
   "id": "cd3132af-db6d-4236-9843-76315e45e536",
   "metadata": {},
   "outputs": [],
   "source": [
    "import json, os\n",
    "\n",
    "import glob\n",
    "import pandas as pd\n",
    "\n",
    "import pyspark.sql.functions as F\n",
    "from pyspark.sql.functions import col, udf, isnan\n",
    "from pyspark.sql.types import StructType, ArrayType, StringType\n",
    "from pyspark.sql import SparkSession\n",
    "from IPython.display import JSON as pretty_print\n",
    "\n",
    "import pandas as pd\n",
    "pd.set_option('display.max_columns', None)\n",
    "pd.set_option('display.max_colwidth', 100)"
   ]
  },
  {
   "cell_type": "markdown",
   "id": "1f150eba-7946-409c-ae6f-863f97b816de",
   "metadata": {
    "tags": []
   },
   "source": [
    "# Loading Dataset"
   ]
  },
  {
   "cell_type": "code",
   "execution_count": 2,
   "id": "46fe5096-1f97-4529-b98f-74a15c4e52cc",
   "metadata": {},
   "outputs": [],
   "source": [
    "spark = SparkSession.builder.getOrCreate()"
   ]
  },
  {
   "cell_type": "code",
   "execution_count": 3,
   "id": "560dac3f-3fb7-4e81-aab5-bd49569fea85",
   "metadata": {},
   "outputs": [],
   "source": [
    "dataset_folder = \"./diamondoa/\" #change with your current dataset folder"
   ]
  },
  {
   "cell_type": "code",
   "execution_count": 4,
   "id": "0ad962e7-932f-443a-8ed7-218e00f48368",
   "metadata": {},
   "outputs": [],
   "source": [
    "with open(f\"{dataset_folder}/affiliations-schema.json\", \"r\") as f:\n",
    "    affiliations_schema = json.load(f)\n",
    "with open(f\"{dataset_folder}/citations-schema.json\", \"r\") as f:\n",
    "    citations_schema = json.load(f)\n",
    "with open(f\"{dataset_folder}/explodedpublications-schema.json\", \"r\") as f:\n",
    "    explodedpublications_schema = json.load(f)\n",
    "with open(f\"{dataset_folder}/journals-schema.json\", \"r\") as f:\n",
    "    journals_schema = json.load(f)\n",
    "with open(f\"{dataset_folder}/publications-schema.json\", \"r\") as f:\n",
    "    publications_schema = json.load(f)"
   ]
  },
  {
   "cell_type": "code",
   "execution_count": 5,
   "id": "60e76d92-dc9f-4e39-ac6f-3ee26ad3acfa",
   "metadata": {},
   "outputs": [],
   "source": [
    "affiliations = spark.read.schema(StructType.fromJson(affiliations_schema)).json(dataset_folder + 'affiliations.json')\n",
    "citations = spark.read.schema(StructType.fromJson(citations_schema)).json(dataset_folder + 'citations.json')\n",
    "explodedpublications = spark.read.schema(StructType.fromJson(explodedpublications_schema)).json(dataset_folder + 'explodedpublications.json')\n",
    "journals = spark.read.schema(StructType.fromJson(journals_schema)).json(dataset_folder + 'journals.json')\n",
    "publications = spark.read.schema(StructType.fromJson(publications_schema)).json(dataset_folder + 'publications.json')"
   ]
  },
  {
   "cell_type": "code",
   "execution_count": 6,
   "id": "45374757-0d2a-4b4d-9d16-639936c25854",
   "metadata": {},
   "outputs": [],
   "source": [
    "affiliations.createOrReplaceTempView(\"affiliations\")\n",
    "citations.createOrReplaceTempView(\"citations\")\n",
    "explodedpublications.createOrReplaceTempView(\"explodedpublications\")\n",
    "journals.createOrReplaceTempView(\"journals\")\n",
    "publications.createOrReplaceTempView(\"publications\")"
   ]
  },
  {
   "cell_type": "markdown",
   "id": "345da63e-1e22-4d78-8104-431490f9f576",
   "metadata": {
    "tags": []
   },
   "source": [
    "## Filtering for diamond journals in the Dataset "
   ]
  },
  {
   "cell_type": "code",
   "execution_count": 7,
   "id": "541d2d9d-b29a-4a24-83a7-93edd5d91d40",
   "metadata": {},
   "outputs": [],
   "source": [
    "with open(\"diamond-issns.json\", \"r\") as f:\n",
    "    diamond_journals = json.load(f)"
   ]
  },
  {
   "cell_type": "code",
   "execution_count": 8,
   "id": "1bb12444-7e56-4e02-853c-bb475c3d7be2",
   "metadata": {},
   "outputs": [],
   "source": [
    "df = spark.table(\"journals\").filter(col(\"eissn\").isin(diamond_journals) | col(\"issn\").isin(diamond_journals))"
   ]
  },
  {
   "cell_type": "code",
   "execution_count": 9,
   "id": "df742e63-6ecd-41cf-818b-1e631b84c627",
   "metadata": {},
   "outputs": [],
   "source": [
    "df.createOrReplaceTempView(\"Diamond\")"
   ]
  },
  {
   "cell_type": "markdown",
   "id": "1ff81d0b-5222-4af6-8b73-e9ea23d923a7",
   "metadata": {
    "tags": []
   },
   "source": [
    "## Importing ROAD"
   ]
  },
  {
   "cell_type": "code",
   "execution_count": 10,
   "id": "9e036640-25f5-4955-9366-32f69d7c6abe",
   "metadata": {},
   "outputs": [],
   "source": [
    "road = pd.read_excel(\"./input/diamond_subjects.xlsx\")"
   ]
  },
  {
   "cell_type": "code",
   "execution_count": 11,
   "id": "6f9b4172-7fcf-4e57-9622-6ffe1a963250",
   "metadata": {},
   "outputs": [],
   "source": [
    "def map_to_fos(row):\n",
    "    subjects = [row['FoS']]  # Start with subj1\n",
    "    if pd.notna(row['Fos2']):  # Check for None (null in Spark)\n",
    "        subjects.append(row['Fos2'])\n",
    "    return subjects"
   ]
  },
  {
   "cell_type": "code",
   "execution_count": 12,
   "id": "ba4bf4cf-1cae-4503-9040-83dbd3a8751b",
   "metadata": {},
   "outputs": [],
   "source": [
    "road['road_subjects'] = road.apply(map_to_fos, axis=1)"
   ]
  },
  {
   "cell_type": "code",
   "execution_count": 13,
   "id": "2f29fdfb-9d72-4a52-a7a6-69ba81ad073e",
   "metadata": {},
   "outputs": [],
   "source": [
    "spark.createDataFrame(road).createOrReplaceTempView(\"road\")"
   ]
  },
  {
   "cell_type": "code",
   "execution_count": 14,
   "id": "f176044b-0651-4abf-912d-e52f2dfb2cd4",
   "metadata": {},
   "outputs": [],
   "source": [
    "spark.sql(\"\"\"\n",
    "select distinct d.*, r.road_subjects as road_fos\n",
    "from diamond d\n",
    "left join road r\n",
    "on d.issn = r.issn or d.eissn = r.eissn\n",
    "\"\"\").createOrReplaceTempView(\"diamond\")"
   ]
  },
  {
   "cell_type": "markdown",
   "id": "f0ca22c6-ec80-4fc7-8b4d-1fdd2e33aed9",
   "metadata": {
    "tags": []
   },
   "source": [
    "## Creating Tables for Diamond Articles"
   ]
  },
  {
   "cell_type": "code",
   "execution_count": 17,
   "id": "83c75c0a-6465-4d10-8fbc-de2e7a56a229",
   "metadata": {},
   "outputs": [],
   "source": [
    "q = \"\"\"\n",
    "select p.*, d.issn, d.eissn, d.road_fos\n",
    "from publications p \n",
    "join diamond d\n",
    "on p.jourid = d.id\n",
    "where extract(year from p.publicationDate) >= 2000 and extract(year from p.publicationDate) <= 2024\n",
    "\"\"\"\n",
    "spark.sql(q).createOrReplaceTempView(\"diamondPubs\")"
   ]
  },
  {
   "cell_type": "code",
   "execution_count": 18,
   "id": "3be81a3c-bd22-48f7-a353-01dcf7d755c5",
   "metadata": {
    "scrolled": true,
    "tags": []
   },
   "outputs": [],
   "source": [
    "q = \"\"\"\n",
    "select c.*\n",
    "from citations c \n",
    "join diamond d\n",
    "on c.citedJournal = d.id\n",
    "\"\"\"\n",
    "spark.sql(q).createOrReplaceTempView(\"diamondCits\")"
   ]
  },
  {
   "cell_type": "markdown",
   "id": "0a74cef1-f661-4076-96f1-efd59291fb0b",
   "metadata": {
    "tags": []
   },
   "source": [
    "## Scholarly Discipline representation"
   ]
  },
  {
   "cell_type": "code",
   "execution_count": 19,
   "id": "42ceeb3e-2870-4225-8092-a65166cd53f6",
   "metadata": {
    "scrolled": true,
    "tags": []
   },
   "outputs": [
    {
     "data": {
      "text/html": [
       "<div>\n",
       "<style scoped>\n",
       "    .dataframe tbody tr th:only-of-type {\n",
       "        vertical-align: middle;\n",
       "    }\n",
       "\n",
       "    .dataframe tbody tr th {\n",
       "        vertical-align: top;\n",
       "    }\n",
       "\n",
       "    .dataframe thead th {\n",
       "        text-align: right;\n",
       "    }\n",
       "</style>\n",
       "<table border=\"1\" class=\"dataframe\">\n",
       "  <thead>\n",
       "    <tr style=\"text-align: right;\">\n",
       "      <th></th>\n",
       "      <th>subject</th>\n",
       "      <th>n_pubs</th>\n",
       "    </tr>\n",
       "  </thead>\n",
       "  <tbody>\n",
       "    <tr>\n",
       "      <th>0</th>\n",
       "      <td>05 social sciences</td>\n",
       "      <td>33558</td>\n",
       "    </tr>\n",
       "    <tr>\n",
       "      <th>1</th>\n",
       "      <td>06 humanities and the arts</td>\n",
       "      <td>25096</td>\n",
       "    </tr>\n",
       "    <tr>\n",
       "      <th>2</th>\n",
       "      <td>01 natural sciences</td>\n",
       "      <td>7103</td>\n",
       "    </tr>\n",
       "    <tr>\n",
       "      <th>3</th>\n",
       "      <td>03 medical and health sciences</td>\n",
       "      <td>4023</td>\n",
       "    </tr>\n",
       "    <tr>\n",
       "      <th>4</th>\n",
       "      <td>04 agricultural and veterinary sciences</td>\n",
       "      <td>3864</td>\n",
       "    </tr>\n",
       "    <tr>\n",
       "      <th>5</th>\n",
       "      <td>02 engineering and technology</td>\n",
       "      <td>1342</td>\n",
       "    </tr>\n",
       "  </tbody>\n",
       "</table>\n",
       "</div>"
      ],
      "text/plain": [
       "                                   subject  n_pubs\n",
       "0                       05 social sciences   33558\n",
       "1               06 humanities and the arts   25096\n",
       "2                      01 natural sciences    7103\n",
       "3           03 medical and health sciences    4023\n",
       "4  04 agricultural and veterinary sciences    3864\n",
       "5            02 engineering and technology    1342"
      ]
     },
     "execution_count": 19,
     "metadata": {},
     "output_type": "execute_result"
    }
   ],
   "source": [
    "query = \"\"\"\n",
    "select subject, count(distinct id) as n_pubs \n",
    "from diamondpubs\n",
    "lateral view explode(road_fos) s as subject\n",
    "where extract(year from publicationDate) >= 2000 and extract(year from publicationDate) < 2025\n",
    "group by subject\n",
    "order by n_pubs desc\n",
    "\"\"\"\n",
    "spark.sql(query).toPandas()"
   ]
  },
  {
   "cell_type": "code",
   "execution_count": 20,
   "id": "66925313-c962-4560-8227-9a47810f4ad6",
   "metadata": {},
   "outputs": [
    {
     "data": {
      "text/html": [
       "<div>\n",
       "<style scoped>\n",
       "    .dataframe tbody tr th:only-of-type {\n",
       "        vertical-align: middle;\n",
       "    }\n",
       "\n",
       "    .dataframe tbody tr th {\n",
       "        vertical-align: top;\n",
       "    }\n",
       "\n",
       "    .dataframe thead th {\n",
       "        text-align: right;\n",
       "    }\n",
       "</style>\n",
       "<table border=\"1\" class=\"dataframe\">\n",
       "  <thead>\n",
       "    <tr style=\"text-align: right;\">\n",
       "      <th></th>\n",
       "      <th>year</th>\n",
       "      <th>subject</th>\n",
       "      <th>subject_count</th>\n",
       "    </tr>\n",
       "  </thead>\n",
       "  <tbody>\n",
       "    <tr>\n",
       "      <th>0</th>\n",
       "      <td>2000</td>\n",
       "      <td>01 natural sciences</td>\n",
       "      <td>131</td>\n",
       "    </tr>\n",
       "    <tr>\n",
       "      <th>1</th>\n",
       "      <td>2001</td>\n",
       "      <td>01 natural sciences</td>\n",
       "      <td>78</td>\n",
       "    </tr>\n",
       "    <tr>\n",
       "      <th>2</th>\n",
       "      <td>2002</td>\n",
       "      <td>01 natural sciences</td>\n",
       "      <td>111</td>\n",
       "    </tr>\n",
       "    <tr>\n",
       "      <th>3</th>\n",
       "      <td>2003</td>\n",
       "      <td>01 natural sciences</td>\n",
       "      <td>304</td>\n",
       "    </tr>\n",
       "    <tr>\n",
       "      <th>4</th>\n",
       "      <td>2004</td>\n",
       "      <td>01 natural sciences</td>\n",
       "      <td>184</td>\n",
       "    </tr>\n",
       "    <tr>\n",
       "      <th>...</th>\n",
       "      <td>...</td>\n",
       "      <td>...</td>\n",
       "      <td>...</td>\n",
       "    </tr>\n",
       "    <tr>\n",
       "      <th>143</th>\n",
       "      <td>2020</td>\n",
       "      <td>06 humanities and the arts</td>\n",
       "      <td>3262</td>\n",
       "    </tr>\n",
       "    <tr>\n",
       "      <th>144</th>\n",
       "      <td>2021</td>\n",
       "      <td>06 humanities and the arts</td>\n",
       "      <td>2901</td>\n",
       "    </tr>\n",
       "    <tr>\n",
       "      <th>145</th>\n",
       "      <td>2022</td>\n",
       "      <td>06 humanities and the arts</td>\n",
       "      <td>3145</td>\n",
       "    </tr>\n",
       "    <tr>\n",
       "      <th>146</th>\n",
       "      <td>2023</td>\n",
       "      <td>06 humanities and the arts</td>\n",
       "      <td>2983</td>\n",
       "    </tr>\n",
       "    <tr>\n",
       "      <th>147</th>\n",
       "      <td>2024</td>\n",
       "      <td>06 humanities and the arts</td>\n",
       "      <td>2540</td>\n",
       "    </tr>\n",
       "  </tbody>\n",
       "</table>\n",
       "<p>148 rows × 3 columns</p>\n",
       "</div>"
      ],
      "text/plain": [
       "     year                     subject  subject_count\n",
       "0    2000         01 natural sciences            131\n",
       "1    2001         01 natural sciences             78\n",
       "2    2002         01 natural sciences            111\n",
       "3    2003         01 natural sciences            304\n",
       "4    2004         01 natural sciences            184\n",
       "..    ...                         ...            ...\n",
       "143  2020  06 humanities and the arts           3262\n",
       "144  2021  06 humanities and the arts           2901\n",
       "145  2022  06 humanities and the arts           3145\n",
       "146  2023  06 humanities and the arts           2983\n",
       "147  2024  06 humanities and the arts           2540\n",
       "\n",
       "[148 rows x 3 columns]"
      ]
     },
     "execution_count": 20,
     "metadata": {},
     "output_type": "execute_result"
    }
   ],
   "source": [
    "query = \"\"\"\n",
    "     select extract(year from publicationDate) as year, subject, count(*) as subject_count\n",
    "     from diamondPubs \n",
    "     lateral view explode (road_fos) f as subject\n",
    "     where extract(year from publicationDate) >= 2000 and extract(year from publicationDate) <= 2025\n",
    "     group by year, subject\n",
    "     order by subject, year asc\n",
    "\"\"\"\n",
    "spark.sql(query).toPandas()"
   ]
  },
  {
   "cell_type": "code",
   "execution_count": 21,
   "id": "8fc3b803-5255-42d9-b21f-6667e0d475ae",
   "metadata": {
    "tags": []
   },
   "outputs": [
    {
     "data": {
      "text/html": [
       "<div>\n",
       "<style scoped>\n",
       "    .dataframe tbody tr th:only-of-type {\n",
       "        vertical-align: middle;\n",
       "    }\n",
       "\n",
       "    .dataframe tbody tr th {\n",
       "        vertical-align: top;\n",
       "    }\n",
       "\n",
       "    .dataframe thead th {\n",
       "        text-align: right;\n",
       "    }\n",
       "</style>\n",
       "<table border=\"1\" class=\"dataframe\">\n",
       "  <thead>\n",
       "    <tr style=\"text-align: right;\">\n",
       "      <th></th>\n",
       "      <th>subject</th>\n",
       "      <th>jourid</th>\n",
       "      <th>issn</th>\n",
       "      <th>eissn</th>\n",
       "      <th>subject_count</th>\n",
       "      <th>tot_pubs</th>\n",
       "    </tr>\n",
       "  </thead>\n",
       "  <tbody>\n",
       "    <tr>\n",
       "      <th>0</th>\n",
       "      <td>05 social sciences</td>\n",
       "      <td>rivisteunimi::5ad13c233dd15674b2227e64bad092d4</td>\n",
       "      <td>2035-7680</td>\n",
       "      <td>2035-7680</td>\n",
       "      <td>1635</td>\n",
       "      <td>1635</td>\n",
       "    </tr>\n",
       "    <tr>\n",
       "      <th>1</th>\n",
       "      <td>06 humanities and the arts</td>\n",
       "      <td>rivisteunimi::5ad13c233dd15674b2227e64bad092d4</td>\n",
       "      <td>2035-7680</td>\n",
       "      <td>2035-7680</td>\n",
       "      <td>1635</td>\n",
       "      <td>1635</td>\n",
       "    </tr>\n",
       "    <tr>\n",
       "      <th>2</th>\n",
       "      <td>05 social sciences</td>\n",
       "      <td>unicaopenjou::7674172ec24021dd7ef4dd2836a1e18d</td>\n",
       "      <td>2039-6597</td>\n",
       "      <td>2039-6597</td>\n",
       "      <td>1614</td>\n",
       "      <td>1614</td>\n",
       "    </tr>\n",
       "    <tr>\n",
       "      <th>3</th>\n",
       "      <td>06 humanities and the arts</td>\n",
       "      <td>unicaopenjou::7674172ec24021dd7ef4dd2836a1e18d</td>\n",
       "      <td>2039-6597</td>\n",
       "      <td>2039-6597</td>\n",
       "      <td>1614</td>\n",
       "      <td>1614</td>\n",
       "    </tr>\n",
       "    <tr>\n",
       "      <th>4</th>\n",
       "      <td>03 medical and health sciences</td>\n",
       "      <td>doajarticles::a7f4d708768f9b1017dabcf9040fbf79</td>\n",
       "      <td>None</td>\n",
       "      <td>2160-9381</td>\n",
       "      <td>1494</td>\n",
       "      <td>1494</td>\n",
       "    </tr>\n",
       "    <tr>\n",
       "      <th>...</th>\n",
       "      <td>...</td>\n",
       "      <td>...</td>\n",
       "      <td>...</td>\n",
       "      <td>...</td>\n",
       "      <td>...</td>\n",
       "      <td>...</td>\n",
       "    </tr>\n",
       "    <tr>\n",
       "      <th>252</th>\n",
       "      <td>05 social sciences</td>\n",
       "      <td>doajarticles::7f0b795696ea9b8404b031f9844d13e4</td>\n",
       "      <td>None</td>\n",
       "      <td>2283-5652</td>\n",
       "      <td>2</td>\n",
       "      <td>2</td>\n",
       "    </tr>\n",
       "    <tr>\n",
       "      <th>253</th>\n",
       "      <td>06 humanities and the arts</td>\n",
       "      <td>doajarticles::7f0b795696ea9b8404b031f9844d13e4</td>\n",
       "      <td>None</td>\n",
       "      <td>2283-5652</td>\n",
       "      <td>2</td>\n",
       "      <td>2</td>\n",
       "    </tr>\n",
       "    <tr>\n",
       "      <th>254</th>\n",
       "      <td>06 humanities and the arts</td>\n",
       "      <td>doajarticles::6799290dcba38e45c05bab5c280f3a4e</td>\n",
       "      <td>None</td>\n",
       "      <td>2384-9568</td>\n",
       "      <td>1</td>\n",
       "      <td>1</td>\n",
       "    </tr>\n",
       "    <tr>\n",
       "      <th>255</th>\n",
       "      <td>05 social sciences</td>\n",
       "      <td>doajarticles::6799290dcba38e45c05bab5c280f3a4e</td>\n",
       "      <td>None</td>\n",
       "      <td>2384-9568</td>\n",
       "      <td>1</td>\n",
       "      <td>1</td>\n",
       "    </tr>\n",
       "    <tr>\n",
       "      <th>256</th>\n",
       "      <td>05 social sciences</td>\n",
       "      <td>doajarticles::934e4b68deaeee0781f18a6a6e4fd906</td>\n",
       "      <td>2532-649X</td>\n",
       "      <td>2532-3474</td>\n",
       "      <td>1</td>\n",
       "      <td>1</td>\n",
       "    </tr>\n",
       "  </tbody>\n",
       "</table>\n",
       "<p>257 rows × 6 columns</p>\n",
       "</div>"
      ],
      "text/plain": [
       "                            subject  \\\n",
       "0                05 social sciences   \n",
       "1        06 humanities and the arts   \n",
       "2                05 social sciences   \n",
       "3        06 humanities and the arts   \n",
       "4    03 medical and health sciences   \n",
       "..                              ...   \n",
       "252              05 social sciences   \n",
       "253      06 humanities and the arts   \n",
       "254      06 humanities and the arts   \n",
       "255              05 social sciences   \n",
       "256              05 social sciences   \n",
       "\n",
       "                                             jourid       issn      eissn  \\\n",
       "0    rivisteunimi::5ad13c233dd15674b2227e64bad092d4  2035-7680  2035-7680   \n",
       "1    rivisteunimi::5ad13c233dd15674b2227e64bad092d4  2035-7680  2035-7680   \n",
       "2    unicaopenjou::7674172ec24021dd7ef4dd2836a1e18d  2039-6597  2039-6597   \n",
       "3    unicaopenjou::7674172ec24021dd7ef4dd2836a1e18d  2039-6597  2039-6597   \n",
       "4    doajarticles::a7f4d708768f9b1017dabcf9040fbf79       None  2160-9381   \n",
       "..                                              ...        ...        ...   \n",
       "252  doajarticles::7f0b795696ea9b8404b031f9844d13e4       None  2283-5652   \n",
       "253  doajarticles::7f0b795696ea9b8404b031f9844d13e4       None  2283-5652   \n",
       "254  doajarticles::6799290dcba38e45c05bab5c280f3a4e       None  2384-9568   \n",
       "255  doajarticles::6799290dcba38e45c05bab5c280f3a4e       None  2384-9568   \n",
       "256  doajarticles::934e4b68deaeee0781f18a6a6e4fd906  2532-649X  2532-3474   \n",
       "\n",
       "     subject_count  tot_pubs  \n",
       "0             1635      1635  \n",
       "1             1635      1635  \n",
       "2             1614      1614  \n",
       "3             1614      1614  \n",
       "4             1494      1494  \n",
       "..             ...       ...  \n",
       "252              2         2  \n",
       "253              2         2  \n",
       "254              1         1  \n",
       "255              1         1  \n",
       "256              1         1  \n",
       "\n",
       "[257 rows x 6 columns]"
      ]
     },
     "execution_count": 21,
     "metadata": {},
     "output_type": "execute_result"
    }
   ],
   "source": [
    "query = \"\"\"\n",
    "with jourcount as (\n",
    "select jourid, count(distinct id) as pub_count\n",
    "from diamondpubs\n",
    "where extract(year from publicationDate) >= 2000\n",
    "group by jourid\n",
    ")\n",
    "select subject, d.jourid, d.issn, d.eissn,  count(distinct d.id) as subject_count, j.pub_count as tot_pubs\n",
    "from diamondpubs d\n",
    "join jourcount j on j.jourid = d.jourid \n",
    "lateral view explode(d.road_fos) f as subject\n",
    "where extract(year from d.publicationDate) >= 2000\n",
    "group by subject, d.jourid, d.issn, d.eissn, tot_pubs\n",
    "order by subject_count desc\n",
    "\"\"\"\n",
    "spark.sql(query).toPandas()"
   ]
  },
  {
   "cell_type": "markdown",
   "id": "fa7e2629-5f86-4684-b977-f3f2447a2b9d",
   "metadata": {},
   "source": [
    "## International Relevance of the journal"
   ]
  },
  {
   "cell_type": "code",
   "execution_count": 22,
   "id": "296345ed-b387-4409-8d0e-61a87a1a178f",
   "metadata": {},
   "outputs": [],
   "source": [
    "q = \"\"\"\n",
    "select p.*, d.officialname, d.organizationsCountries, d.organizationsNames, country\n",
    "from diamondpubs p\n",
    "join diamond d on p.jourid = d.id\n",
    "lateral view outer explode(p.countries) c as country\n",
    "\"\"\"\n",
    "d = spark.sql(q).toJSON().collect()\n",
    "#spark.sql(q).toPandas()"
   ]
  },
  {
   "cell_type": "code",
   "execution_count": 23,
   "id": "99abb82f-9a3c-4a8a-abf5-7041506e4b7d",
   "metadata": {},
   "outputs": [],
   "source": [
    "journals = {}\n",
    "for k in d:\n",
    "    jour = json.loads(k)\n",
    "    jourid, journame = jour['jourid'], jour['officialname']\n",
    "    org_country = ''\n",
    "    if 'organizationsCountries' in jour:\n",
    "        org_country = jour['organizationsCountries'][0] if not jour['organizationsCountries'] is None else ''\n",
    "    if not jourid in journals: journals[jourid] = {'countries':{}, 'n_pubs': 0, 'org_diff': 0}\n",
    "    if not 'publisher country' in journals[jourid]: journals[jourid]['publisher country'] = org_country\n",
    "    if not 'name' in journals[jourid]: journals[jourid]['name'] = journame\n",
    "    journals[jourid]['n_pubs'] += 1\n",
    "    if 'country' in jour:\n",
    "        country_diff = org_country not in jour['country']\n",
    "        for c in jour['country']:\n",
    "            if not c in journals[jourid]['countries']: journals[jourid]['countries'][c] = 0\n",
    "            journals[jourid]['countries'][c] += 1\n",
    "        if country_diff: journals[jourid]['org_diff'] += 1"
   ]
  },
  {
   "cell_type": "code",
   "execution_count": 24,
   "id": "5f42b0f1-ab38-4ab3-b13a-bac00eb843f0",
   "metadata": {},
   "outputs": [],
   "source": [
    "l = []\n",
    "for k,v in journals.items():\n",
    "    d = {\n",
    "        'id': k,\n",
    "        'name': v['name'],\n",
    "        'publisher country': v['publisher country'],\n",
    "        '#pubs': v['n_pubs'],\n",
    "        '#pubs where all authors come from different country': v['org_diff'] \n",
    "    }\n",
    "    for code, pubs in v['countries'].items():\n",
    "        d[code] = pubs\n",
    "    l.append(d)"
   ]
  },
  {
   "cell_type": "code",
   "execution_count": 25,
   "id": "d7f413a6-69f4-44e0-adb9-6f0ef0ed5df8",
   "metadata": {},
   "outputs": [
    {
     "data": {
      "text/html": [
       "<div>\n",
       "<style scoped>\n",
       "    .dataframe tbody tr th:only-of-type {\n",
       "        vertical-align: middle;\n",
       "    }\n",
       "\n",
       "    .dataframe tbody tr th {\n",
       "        vertical-align: top;\n",
       "    }\n",
       "\n",
       "    .dataframe thead th {\n",
       "        text-align: right;\n",
       "    }\n",
       "</style>\n",
       "<table border=\"1\" class=\"dataframe\">\n",
       "  <thead>\n",
       "    <tr style=\"text-align: right;\">\n",
       "      <th></th>\n",
       "      <th>id</th>\n",
       "      <th>name</th>\n",
       "      <th>publisher country</th>\n",
       "      <th>#pubs</th>\n",
       "      <th>#pubs where all authors come from different country</th>\n",
       "      <th>code</th>\n",
       "      <th>label</th>\n",
       "      <th>provenance</th>\n",
       "    </tr>\n",
       "  </thead>\n",
       "  <tbody>\n",
       "    <tr>\n",
       "      <th>0</th>\n",
       "      <td>doajarticles::e164fe214e074492c52bedc156ee0f52</td>\n",
       "      <td>Rassegna Iberistica</td>\n",
       "      <td>IT</td>\n",
       "      <td>561</td>\n",
       "      <td>81</td>\n",
       "      <td>81.0</td>\n",
       "      <td>81.0</td>\n",
       "      <td>81.0</td>\n",
       "    </tr>\n",
       "    <tr>\n",
       "      <th>1</th>\n",
       "      <td>doajarticles::a65d35d323812be48e58e921cc7c2f93</td>\n",
       "      <td>Axon</td>\n",
       "      <td>IT</td>\n",
       "      <td>2456</td>\n",
       "      <td>824</td>\n",
       "      <td>824.0</td>\n",
       "      <td>824.0</td>\n",
       "      <td>824.0</td>\n",
       "    </tr>\n",
       "    <tr>\n",
       "      <th>2</th>\n",
       "      <td>doajarticles::db4f5d69fb72f19575b9db98960853d1</td>\n",
       "      <td>Moneta e Credito</td>\n",
       "      <td>IT</td>\n",
       "      <td>568</td>\n",
       "      <td>56</td>\n",
       "      <td>56.0</td>\n",
       "      <td>56.0</td>\n",
       "      <td>56.0</td>\n",
       "    </tr>\n",
       "    <tr>\n",
       "      <th>3</th>\n",
       "      <td>doajarticles::07f4e9f39c7789481c062e9950c88ebe</td>\n",
       "      <td>Advances in Horticultural Science</td>\n",
       "      <td>IT</td>\n",
       "      <td>565</td>\n",
       "      <td>190</td>\n",
       "      <td>190.0</td>\n",
       "      <td>190.0</td>\n",
       "      <td>190.0</td>\n",
       "    </tr>\n",
       "    <tr>\n",
       "      <th>4</th>\n",
       "      <td>doajarticles::c15fdf0d1f5e215bdb1722685df301d3</td>\n",
       "      <td>European Journal of Spatial Development</td>\n",
       "      <td>IT</td>\n",
       "      <td>1128</td>\n",
       "      <td>352</td>\n",
       "      <td>352.0</td>\n",
       "      <td>352.0</td>\n",
       "      <td>352.0</td>\n",
       "    </tr>\n",
       "  </tbody>\n",
       "</table>\n",
       "</div>"
      ],
      "text/plain": [
       "                                               id  \\\n",
       "0  doajarticles::e164fe214e074492c52bedc156ee0f52   \n",
       "1  doajarticles::a65d35d323812be48e58e921cc7c2f93   \n",
       "2  doajarticles::db4f5d69fb72f19575b9db98960853d1   \n",
       "3  doajarticles::07f4e9f39c7789481c062e9950c88ebe   \n",
       "4  doajarticles::c15fdf0d1f5e215bdb1722685df301d3   \n",
       "\n",
       "                                      name publisher country  #pubs  \\\n",
       "0                      Rassegna Iberistica                IT    561   \n",
       "1                                     Axon                IT   2456   \n",
       "2                         Moneta e Credito                IT    568   \n",
       "3        Advances in Horticultural Science                IT    565   \n",
       "4  European Journal of Spatial Development                IT   1128   \n",
       "\n",
       "   #pubs where all authors come from different country   code  label  \\\n",
       "0                                                   81   81.0   81.0   \n",
       "1                                                  824  824.0  824.0   \n",
       "2                                                   56   56.0   56.0   \n",
       "3                                                  190  190.0  190.0   \n",
       "4                                                  352  352.0  352.0   \n",
       "\n",
       "   provenance  \n",
       "0        81.0  \n",
       "1       824.0  \n",
       "2        56.0  \n",
       "3       190.0  \n",
       "4       352.0  "
      ]
     },
     "execution_count": 25,
     "metadata": {},
     "output_type": "execute_result"
    }
   ],
   "source": [
    "df = pd.DataFrame(l)\n",
    "df.head()"
   ]
  },
  {
   "cell_type": "markdown",
   "id": "2c3df753-4e36-4dcf-9471-03d1a43d5001",
   "metadata": {
    "tags": []
   },
   "source": [
    "## Journal Active in the last two years"
   ]
  },
  {
   "cell_type": "code",
   "execution_count": 26,
   "id": "4d5d2994-0776-4491-b2fa-9b6b4b781090",
   "metadata": {},
   "outputs": [
    {
     "data": {
      "text/html": [
       "<div>\n",
       "<style scoped>\n",
       "    .dataframe tbody tr th:only-of-type {\n",
       "        vertical-align: middle;\n",
       "    }\n",
       "\n",
       "    .dataframe tbody tr th {\n",
       "        vertical-align: top;\n",
       "    }\n",
       "\n",
       "    .dataframe thead th {\n",
       "        text-align: right;\n",
       "    }\n",
       "</style>\n",
       "<table border=\"1\" class=\"dataframe\">\n",
       "  <thead>\n",
       "    <tr style=\"text-align: right;\">\n",
       "      <th></th>\n",
       "      <th>n_journals</th>\n",
       "      <th>n_pubs</th>\n",
       "    </tr>\n",
       "  </thead>\n",
       "  <tbody>\n",
       "    <tr>\n",
       "      <th>0</th>\n",
       "      <td>131</td>\n",
       "      <td>10390</td>\n",
       "    </tr>\n",
       "  </tbody>\n",
       "</table>\n",
       "</div>"
      ],
      "text/plain": [
       "   n_journals  n_pubs\n",
       "0         131   10390"
      ]
     },
     "execution_count": 26,
     "metadata": {},
     "output_type": "execute_result"
    }
   ],
   "source": [
    "q = \"\"\"\n",
    "select count(distinct jourid) as n_journals, count(*) as n_pubs from diamondpubs\n",
    "where extract(year from publicationDate) > 2022\n",
    "\"\"\"\n",
    "spark.sql(q).toPandas()"
   ]
  },
  {
   "cell_type": "markdown",
   "id": "3c687164-80dc-44f3-bd00-50032d807ec5",
   "metadata": {
    "tags": []
   },
   "source": [
    "## Total Pubs DOA ITA vs ITA"
   ]
  },
  {
   "cell_type": "code",
   "execution_count": 17,
   "id": "9be47ae2-08ed-4922-83d1-8b3569a13777",
   "metadata": {
    "scrolled": true,
    "tags": []
   },
   "outputs": [
    {
     "name": "stderr",
     "output_type": "stream",
     "text": [
      "<ipython-input-17-6570cc2846a2>:2: UserWarning: Boolean Series key will be reindexed to match DataFrame index.\n",
      "  diamond_pubs = df.sort_values(by=\"year\", ascending=True)[df['year'].apply(lambda x: 2000 <= x <= 2025)]\n"
     ]
    }
   ],
   "source": [
    "df = spark.sql(\"select extract(year from publicationDate) as year, count(distinct jourid) as n_journals, count(*) as c from diamondpubs group by year\").toPandas()\n",
    "diamond_pubs = df.sort_values(by=\"year\", ascending=True)[df['year'].apply(lambda x: 2000 <= x <= 2025)]"
   ]
  },
  {
   "cell_type": "code",
   "execution_count": 18,
   "id": "bc67c5b5-1577-42d8-9415-2f99183b298c",
   "metadata": {},
   "outputs": [
    {
     "name": "stderr",
     "output_type": "stream",
     "text": [
      "<ipython-input-18-a7bdf833cc36>:2: UserWarning: Boolean Series key will be reindexed to match DataFrame index.\n",
      "  all_pubs = df.sort_values(by=\"year\", ascending=True)[df['year'].apply(lambda x: 2000 <= x <= 2025)]\n"
     ]
    }
   ],
   "source": [
    "df = spark.sql(\"select extract(year from publicationDate) as year, count(*) as c from explodedPublications group by year\").toPandas()\n",
    "all_pubs = df.sort_values(by=\"year\", ascending=True)[df['year'].apply(lambda x: 2000 <= x <= 2025)]"
   ]
  },
  {
   "cell_type": "code",
   "execution_count": 19,
   "id": "f7b1e545-15db-4ad4-9063-f5313af3a14b",
   "metadata": {},
   "outputs": [],
   "source": [
    "df1 = diamond_pubs.merge(all_pubs,on='year', how='inner')\n",
    "df1 = df1.rename(columns={'c_x':'diamond_pubs', 'c_y': 'all_italian_pubs'})\n",
    "df1['percentage'] = (df1['diamond_pubs']/df1['all_italian_pubs'])*100\n",
    "df1.to_excel(\"results/3C.xlsx\", index=None)"
   ]
  },
  {
   "cell_type": "markdown",
   "id": "b2a7d999-307a-4087-be57-0dc53c642a32",
   "metadata": {
    "tags": []
   },
   "source": [
    "# Impact "
   ]
  },
  {
   "cell_type": "markdown",
   "id": "4b9d1aff-c969-41b6-a90a-f2f65b5509b1",
   "metadata": {
    "tags": []
   },
   "source": [
    "## Journal in \"A\" Class of ANVUR journal classification"
   ]
  },
  {
   "cell_type": "code",
   "execution_count": 83,
   "id": "b223afd8-a484-4eb9-aea1-efee3cad1ccd",
   "metadata": {},
   "outputs": [],
   "source": [
    "anvur_df = pd.read_excel(\"anvur_intersection.xlsx\")"
   ]
  },
  {
   "cell_type": "code",
   "execution_count": 90,
   "id": "d529d461-1aad-42ba-84d2-4cd915ebf290",
   "metadata": {},
   "outputs": [],
   "source": [
    "m1 = subj_diamond_res.merge(anvur_df, left_on=\"issn\", right_on=\"ISSN\", how=\"inner\")\n",
    "m2 = subj_diamond_res.merge(anvur_df, left_on=\"eissn\", right_on=\"ISSN\", how=\"inner\")"
   ]
  },
  {
   "cell_type": "code",
   "execution_count": 93,
   "id": "ee672d39-939a-46cf-887f-355b83926dc0",
   "metadata": {},
   "outputs": [],
   "source": [
    "munion = pd.concat([m1, m2])"
   ]
  },
  {
   "cell_type": "code",
   "execution_count": 95,
   "id": "8d1eb403-90b4-4351-bc50-a2e1356b0a27",
   "metadata": {},
   "outputs": [],
   "source": [
    "munion.to_excel(\"anvur_journals.xlsx\")"
   ]
  },
  {
   "cell_type": "markdown",
   "id": "faff0c5f-aaf3-4926-8d67-de4b94b54bf9",
   "metadata": {
    "tags": []
   },
   "source": [
    "## B."
   ]
  },
  {
   "cell_type": "markdown",
   "id": "e5df1fc5-0460-4efd-abfb-cefbf87d59da",
   "metadata": {},
   "source": [
    "## Citation Distribution"
   ]
  },
  {
   "cell_type": "code",
   "execution_count": 14,
   "id": "6c2bfd4e-c51f-41b2-9f23-b8171d9a0cee",
   "metadata": {},
   "outputs": [
    {
     "name": "stderr",
     "output_type": "stream",
     "text": [
      "<ipython-input-14-4c37c4c02cbb>:9: UserWarning: Boolean Series key will be reindexed to match DataFrame index.\n",
      "  diamond_cits = df.sort_values(by=\"year\", ascending=True)[df['year'].apply(lambda x: 2000 <= x <= 2025)]\n"
     ]
    }
   ],
   "source": [
    "df = spark.sql(\"\"\"\n",
    "    select extract(year from p.publicationDate) as year, count(distinct c.citing)\n",
    "    from diamondCits c\n",
    "    join diamondPubs p\n",
    "    on c.cited = p.id\n",
    "    group by year\n",
    "\"\"\").toPandas()\n",
    "\n",
    "diamond_cits = df.sort_values(by=\"year\", ascending=True)[df['year'].apply(lambda x: 2000 <= x <= 2025)]"
   ]
  },
  {
   "cell_type": "code",
   "execution_count": 16,
   "id": "8dda3fab-ed72-43e0-81bd-e6e0e9156206",
   "metadata": {},
   "outputs": [],
   "source": [
    "diamond_cits.show()"
   ]
  },
  {
   "cell_type": "markdown",
   "id": "76244b3a-a230-46d7-8f00-d04657e61556",
   "metadata": {},
   "source": [
    "## Citation per Scholarly Discipline"
   ]
  },
  {
   "cell_type": "code",
   "execution_count": 140,
   "id": "13555920-69b2-4a30-ba37-3ff6ed7f1017",
   "metadata": {},
   "outputs": [],
   "source": [
    "df1 = spark.sql(\"\"\"\n",
    "    select subject, count(distinct p.id) as n_pubs, count(c.citing) as n_citations\n",
    "    from diamondPubs p\n",
    "    left join diamondCits c\n",
    "    on c.cited = p.id\n",
    "    lateral view explode(p.fos) s as subject\n",
    "    group by subject\n",
    "    order by n_pubs desc\n",
    "\"\"\").toPandas()"
   ]
  },
  {
   "cell_type": "markdown",
   "id": "696d3fb6-c615-46b7-9ebb-5567d39ca844",
   "metadata": {},
   "source": [
    "## Citation Origin"
   ]
  },
  {
   "cell_type": "code",
   "execution_count": 150,
   "id": "a53f716a-40ff-4a9d-96d4-da818f7abb39",
   "metadata": {},
   "outputs": [],
   "source": [
    "countries = {}\n",
    "for k in res:\n",
    "    cit = json.loads(k)\n",
    "    if 'resultCountries' in cit:\n",
    "        for country in cit['resultCountries']:\n",
    "            code = country['code']\n",
    "            label = country['label']\n",
    "            if not code in countries: countries[code] = {'label': label, 'cit_count': 0}\n",
    "            countries[code]['cit_count'] += 1"
   ]
  },
  {
   "cell_type": "code",
   "execution_count": 151,
   "id": "06e7e7f4-2cec-4802-8b9b-c5b5042fdd05",
   "metadata": {},
   "outputs": [],
   "source": [
    "countries = dict(sorted(countries.items(), key=lambda x: x[1]['cit_count'], reverse=True))"
   ]
  },
  {
   "cell_type": "code",
   "execution_count": 154,
   "id": "85e9efee-bf54-4448-b09c-9a7e0fe5d396",
   "metadata": {},
   "outputs": [
    {
     "data": {
      "text/html": [
       "<div>\n",
       "<style scoped>\n",
       "    .dataframe tbody tr th:only-of-type {\n",
       "        vertical-align: middle;\n",
       "    }\n",
       "\n",
       "    .dataframe tbody tr th {\n",
       "        vertical-align: top;\n",
       "    }\n",
       "\n",
       "    .dataframe thead th {\n",
       "        text-align: right;\n",
       "    }\n",
       "</style>\n",
       "<table border=\"1\" class=\"dataframe\">\n",
       "  <thead>\n",
       "    <tr style=\"text-align: right;\">\n",
       "      <th></th>\n",
       "      <th>code</th>\n",
       "      <th>label</th>\n",
       "      <th># citations provided</th>\n",
       "    </tr>\n",
       "  </thead>\n",
       "  <tbody>\n",
       "    <tr>\n",
       "      <th>0</th>\n",
       "      <td>IT</td>\n",
       "      <td>Italy</td>\n",
       "      <td>23124</td>\n",
       "    </tr>\n",
       "    <tr>\n",
       "      <th>1</th>\n",
       "      <td>FR</td>\n",
       "      <td>France</td>\n",
       "      <td>4011</td>\n",
       "    </tr>\n",
       "    <tr>\n",
       "      <th>2</th>\n",
       "      <td>GB</td>\n",
       "      <td>United Kingdom</td>\n",
       "      <td>2961</td>\n",
       "    </tr>\n",
       "    <tr>\n",
       "      <th>3</th>\n",
       "      <td>ES</td>\n",
       "      <td>Spain</td>\n",
       "      <td>2715</td>\n",
       "    </tr>\n",
       "    <tr>\n",
       "      <th>4</th>\n",
       "      <td>NL</td>\n",
       "      <td>Netherlands</td>\n",
       "      <td>2126</td>\n",
       "    </tr>\n",
       "    <tr>\n",
       "      <th>...</th>\n",
       "      <td>...</td>\n",
       "      <td>...</td>\n",
       "      <td>...</td>\n",
       "    </tr>\n",
       "    <tr>\n",
       "      <th>71</th>\n",
       "      <td>EG</td>\n",
       "      <td>Egypt</td>\n",
       "      <td>1</td>\n",
       "    </tr>\n",
       "    <tr>\n",
       "      <th>72</th>\n",
       "      <td>ET</td>\n",
       "      <td>Ethiopia</td>\n",
       "      <td>1</td>\n",
       "    </tr>\n",
       "    <tr>\n",
       "      <th>73</th>\n",
       "      <td>BD</td>\n",
       "      <td>Bangladesh</td>\n",
       "      <td>1</td>\n",
       "    </tr>\n",
       "    <tr>\n",
       "      <th>74</th>\n",
       "      <td>LIE</td>\n",
       "      <td>LIE</td>\n",
       "      <td>1</td>\n",
       "    </tr>\n",
       "    <tr>\n",
       "      <th>75</th>\n",
       "      <td>UY</td>\n",
       "      <td>Uruguay</td>\n",
       "      <td>1</td>\n",
       "    </tr>\n",
       "  </tbody>\n",
       "</table>\n",
       "<p>76 rows × 3 columns</p>\n",
       "</div>"
      ],
      "text/plain": [
       "   code           label  # citations provided\n",
       "0    IT           Italy                 23124\n",
       "1    FR          France                  4011\n",
       "2    GB  United Kingdom                  2961\n",
       "3    ES           Spain                  2715\n",
       "4    NL     Netherlands                  2126\n",
       "..  ...             ...                   ...\n",
       "71   EG           Egypt                     1\n",
       "72   ET        Ethiopia                     1\n",
       "73   BD      Bangladesh                     1\n",
       "74  LIE             LIE                     1\n",
       "75   UY         Uruguay                     1\n",
       "\n",
       "[76 rows x 3 columns]"
      ]
     },
     "execution_count": 154,
     "metadata": {},
     "output_type": "execute_result"
    }
   ],
   "source": [
    "l = []\n",
    "for k,v in countries.items():\n",
    "    l.append({\n",
    "        'code': k,\n",
    "        'label': v['label'],\n",
    "        '# citations provided': v['cit_count']\n",
    "    })\n",
    "    \n",
    "df2 = pd.DataFrame(l)"
   ]
  },
  {
   "cell_type": "code",
   "execution_count": null,
   "id": "86299cf9-4ee4-4dc6-9916-89aac310d3e4",
   "metadata": {},
   "outputs": [],
   "source": [
    "excel = pd.ExcelWriter(\"4-Impact.xlsx\")"
   ]
  },
  {
   "cell_type": "code",
   "execution_count": null,
   "id": "4e178cde-e650-4415-b075-6bde017d9209",
   "metadata": {},
   "outputs": [],
   "source": [
    "diamond_cits.to_excel(excel, sheet_name=\"4-1\", index=None)\n",
    "df2.to_excel(excel, sheet_name=\"4-3\", index=None)\n",
    "df1.to_excel(excel, sheet_name=\"4-4\", index=None)"
   ]
  },
  {
   "cell_type": "code",
   "execution_count": null,
   "id": "2e6087a4-050a-4b3a-a7c3-1f5f5f8df161",
   "metadata": {},
   "outputs": [
    {
     "name": "stderr",
     "output_type": "stream",
     "text": [
      "<ipython-input-161-74450d1703e5>:1: FutureWarning: save is not part of the public API, usage can give unexpected results and will be removed in a future version\n",
      "  excel.save()\n"
     ]
    }
   ],
   "source": [
    "excel.save()"
   ]
  }
 ],
 "metadata": {
  "kernelspec": {
   "display_name": "Python 3",
   "language": "python",
   "name": "python3"
  },
  "language_info": {
   "codemirror_mode": {
    "name": "ipython",
    "version": 3
   },
   "file_extension": ".py",
   "mimetype": "text/x-python",
   "name": "python",
   "nbconvert_exporter": "python",
   "pygments_lexer": "ipython3",
   "version": "3.8.8"
  }
 },
 "nbformat": 4,
 "nbformat_minor": 5
}
